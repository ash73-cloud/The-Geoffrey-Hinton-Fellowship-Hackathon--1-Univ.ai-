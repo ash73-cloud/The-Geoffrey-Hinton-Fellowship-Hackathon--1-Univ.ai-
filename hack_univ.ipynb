{
  "nbformat": 4,
  "nbformat_minor": 0,
  "metadata": {
    "colab": {
      "name": "hack_univ.ipynb",
      "provenance": [],
      "collapsed_sections": []
    },
    "kernelspec": {
      "name": "python3",
      "display_name": "Python 3"
    },
    "language_info": {
      "name": "python"
    }
  },
  "cells": [
    {
      "cell_type": "code",
      "metadata": {
        "id": "Me38MTnAjQoD"
      },
      "source": [
        "import pandas as pd\n",
        "import numpy as np\n",
        "import matplotlib.pyplot as plt\n",
        "import seaborn as sns"
      ],
      "execution_count": null,
      "outputs": []
    },
    {
      "cell_type": "code",
      "metadata": {
        "id": "BuDK4Pi2j0Ch"
      },
      "source": [
        "df_train=pd.read_csv(\"/content/drive/MyDrive/Hack Univ/Training Data.csv\")\n",
        "df_test=pd.read_csv(\"/content/drive/MyDrive/Hack Univ/Test Data.csv\")\n",
        "original_df_test=df_test.copy()\n",
        " "
      ],
      "execution_count": null,
      "outputs": []
    },
    {
      "cell_type": "code",
      "metadata": {
        "colab": {
          "base_uri": "https://localhost:8080/",
          "height": 215
        },
        "id": "p957_oMDlYv5",
        "outputId": "d6e1b422-db48-4aa5-8fe5-130c65f5d391"
      },
      "source": [
        "df_train.sample(5)"
      ],
      "execution_count": null,
      "outputs": [
        {
          "output_type": "execute_result",
          "data": {
            "text/html": [
              "<div>\n",
              "<style scoped>\n",
              "    .dataframe tbody tr th:only-of-type {\n",
              "        vertical-align: middle;\n",
              "    }\n",
              "\n",
              "    .dataframe tbody tr th {\n",
              "        vertical-align: top;\n",
              "    }\n",
              "\n",
              "    .dataframe thead th {\n",
              "        text-align: right;\n",
              "    }\n",
              "</style>\n",
              "<table border=\"1\" class=\"dataframe\">\n",
              "  <thead>\n",
              "    <tr style=\"text-align: right;\">\n",
              "      <th></th>\n",
              "      <th>Id</th>\n",
              "      <th>income</th>\n",
              "      <th>age</th>\n",
              "      <th>experience</th>\n",
              "      <th>married</th>\n",
              "      <th>house_ownership</th>\n",
              "      <th>car_ownership</th>\n",
              "      <th>profession</th>\n",
              "      <th>city</th>\n",
              "      <th>state</th>\n",
              "      <th>current_job_years</th>\n",
              "      <th>current_house_years</th>\n",
              "      <th>risk_flag</th>\n",
              "    </tr>\n",
              "  </thead>\n",
              "  <tbody>\n",
              "    <tr>\n",
              "      <th>56370</th>\n",
              "      <td>56371</td>\n",
              "      <td>6351922</td>\n",
              "      <td>57</td>\n",
              "      <td>6</td>\n",
              "      <td>married</td>\n",
              "      <td>rented</td>\n",
              "      <td>yes</td>\n",
              "      <td>Dentist</td>\n",
              "      <td>Khammam</td>\n",
              "      <td>Telangana</td>\n",
              "      <td>5</td>\n",
              "      <td>10</td>\n",
              "      <td>0</td>\n",
              "    </tr>\n",
              "    <tr>\n",
              "      <th>142573</th>\n",
              "      <td>142574</td>\n",
              "      <td>2240686</td>\n",
              "      <td>42</td>\n",
              "      <td>1</td>\n",
              "      <td>single</td>\n",
              "      <td>rented</td>\n",
              "      <td>no</td>\n",
              "      <td>Computer_hardware_engineer</td>\n",
              "      <td>Dharmavaram</td>\n",
              "      <td>Andhra_Pradesh</td>\n",
              "      <td>1</td>\n",
              "      <td>13</td>\n",
              "      <td>0</td>\n",
              "    </tr>\n",
              "    <tr>\n",
              "      <th>164383</th>\n",
              "      <td>164384</td>\n",
              "      <td>3307171</td>\n",
              "      <td>68</td>\n",
              "      <td>2</td>\n",
              "      <td>single</td>\n",
              "      <td>rented</td>\n",
              "      <td>yes</td>\n",
              "      <td>Comedian</td>\n",
              "      <td>Khora,_Ghaziabad</td>\n",
              "      <td>Uttar_Pradesh</td>\n",
              "      <td>2</td>\n",
              "      <td>14</td>\n",
              "      <td>0</td>\n",
              "    </tr>\n",
              "    <tr>\n",
              "      <th>141755</th>\n",
              "      <td>141756</td>\n",
              "      <td>2087379</td>\n",
              "      <td>33</td>\n",
              "      <td>17</td>\n",
              "      <td>married</td>\n",
              "      <td>rented</td>\n",
              "      <td>yes</td>\n",
              "      <td>Computer_hardware_engineer</td>\n",
              "      <td>Bokaro</td>\n",
              "      <td>Jharkhand</td>\n",
              "      <td>4</td>\n",
              "      <td>10</td>\n",
              "      <td>0</td>\n",
              "    </tr>\n",
              "    <tr>\n",
              "      <th>10060</th>\n",
              "      <td>10061</td>\n",
              "      <td>7806795</td>\n",
              "      <td>68</td>\n",
              "      <td>20</td>\n",
              "      <td>single</td>\n",
              "      <td>rented</td>\n",
              "      <td>yes</td>\n",
              "      <td>Technology_specialist</td>\n",
              "      <td>Satna</td>\n",
              "      <td>Madhya_Pradesh</td>\n",
              "      <td>9</td>\n",
              "      <td>10</td>\n",
              "      <td>0</td>\n",
              "    </tr>\n",
              "  </tbody>\n",
              "</table>\n",
              "</div>"
            ],
            "text/plain": [
              "            Id   income  age  ...  current_job_years current_house_years risk_flag\n",
              "56370    56371  6351922   57  ...                  5                  10         0\n",
              "142573  142574  2240686   42  ...                  1                  13         0\n",
              "164383  164384  3307171   68  ...                  2                  14         0\n",
              "141755  141756  2087379   33  ...                  4                  10         0\n",
              "10060    10061  7806795   68  ...                  9                  10         0\n",
              "\n",
              "[5 rows x 13 columns]"
            ]
          },
          "metadata": {
            "tags": []
          },
          "execution_count": 203
        }
      ]
    },
    {
      "cell_type": "code",
      "metadata": {
        "colab": {
          "base_uri": "https://localhost:8080/"
        },
        "id": "VqIyJd5BjJAJ",
        "outputId": "d8321311-e8dd-439c-d433-1d2435139dab"
      },
      "source": [
        "df_train.columns"
      ],
      "execution_count": null,
      "outputs": [
        {
          "output_type": "execute_result",
          "data": {
            "text/plain": [
              "Index(['Id', 'income', 'age', 'experience', 'married', 'house_ownership',\n",
              "       'car_ownership', 'profession', 'city', 'state', 'current_job_years',\n",
              "       'current_house_years', 'risk_flag'],\n",
              "      dtype='object')"
            ]
          },
          "metadata": {
            "tags": []
          },
          "execution_count": 204
        }
      ]
    },
    {
      "cell_type": "code",
      "metadata": {
        "colab": {
          "base_uri": "https://localhost:8080/"
        },
        "id": "gsoDTYJfwl-B",
        "outputId": "422a26f0-e987-4baf-a13a-187b6e08abfa"
      },
      "source": [
        "original_df_test.columns"
      ],
      "execution_count": null,
      "outputs": [
        {
          "output_type": "execute_result",
          "data": {
            "text/plain": [
              "Index(['id', 'income', 'age', 'experience', 'married', 'house_ownership',\n",
              "       'car_ownership', 'profession', 'city', 'state', 'current_job_years',\n",
              "       'current_house_years'],\n",
              "      dtype='object')"
            ]
          },
          "metadata": {
            "tags": []
          },
          "execution_count": 205
        }
      ]
    },
    {
      "cell_type": "code",
      "metadata": {
        "colab": {
          "base_uri": "https://localhost:8080/"
        },
        "id": "GWjoR0C8lbWm",
        "outputId": "e334ada2-6452-4102-ab74-a629f423aa98"
      },
      "source": [
        " df_train.info()"
      ],
      "execution_count": null,
      "outputs": [
        {
          "output_type": "stream",
          "text": [
            "<class 'pandas.core.frame.DataFrame'>\n",
            "RangeIndex: 252000 entries, 0 to 251999\n",
            "Data columns (total 13 columns):\n",
            " #   Column               Non-Null Count   Dtype \n",
            "---  ------               --------------   ----- \n",
            " 0   Id                   252000 non-null  int64 \n",
            " 1   income               252000 non-null  int64 \n",
            " 2   age                  252000 non-null  int64 \n",
            " 3   experience           252000 non-null  int64 \n",
            " 4   married              252000 non-null  object\n",
            " 5   house_ownership      252000 non-null  object\n",
            " 6   car_ownership        252000 non-null  object\n",
            " 7   profession           252000 non-null  object\n",
            " 8   city                 252000 non-null  object\n",
            " 9   state                252000 non-null  object\n",
            " 10  current_job_years    252000 non-null  int64 \n",
            " 11  current_house_years  252000 non-null  int64 \n",
            " 12  risk_flag            252000 non-null  int64 \n",
            "dtypes: int64(7), object(6)\n",
            "memory usage: 25.0+ MB\n"
          ],
          "name": "stdout"
        }
      ]
    },
    {
      "cell_type": "code",
      "metadata": {
        "colab": {
          "base_uri": "https://localhost:8080/"
        },
        "id": "sMA3Y3Vup2Sg",
        "outputId": "947a45d2-8f9b-4b24-be36-7efffe042f7e"
      },
      "source": [
        "df_train['experience'].unique()"
      ],
      "execution_count": null,
      "outputs": [
        {
          "output_type": "execute_result",
          "data": {
            "text/plain": [
              "array([ 3, 10,  4,  2, 11,  0, 14, 17, 12,  7,  9,  6,  8,  1, 13, 19, 15,\n",
              "       20,  5, 16, 18])"
            ]
          },
          "metadata": {
            "tags": []
          },
          "execution_count": 207
        }
      ]
    },
    {
      "cell_type": "code",
      "metadata": {
        "colab": {
          "base_uri": "https://localhost:8080/"
        },
        "id": "L8V5dIOj5g-9",
        "outputId": "93ee1db0-268e-4a4f-9be1-fb05b2c309fc"
      },
      "source": [
        "df_train['risk_flag'].value_counts()"
      ],
      "execution_count": null,
      "outputs": [
        {
          "output_type": "execute_result",
          "data": {
            "text/plain": [
              "0    221004\n",
              "1     30996\n",
              "Name: risk_flag, dtype: int64"
            ]
          },
          "metadata": {
            "tags": []
          },
          "execution_count": 208
        }
      ]
    },
    {
      "cell_type": "code",
      "metadata": {
        "id": "mnOsc3Ys-dfO"
      },
      "source": [
        " \n",
        "ax_4 = sns.countplot(x= 'profession', hue= 'risk_flag', data= df_train)\n",
        "ax_4.set_xticklabels(ax_4.get_xticklabels(), rotation=90, fontweight='light',\n",
        "    fontsize='x-small')"
      ],
      "execution_count": null,
      "outputs": []
    },
    {
      "cell_type": "code",
      "metadata": {
        "colab": {
          "base_uri": "https://localhost:8080/"
        },
        "id": "jnhlpJWR-49N",
        "outputId": "47ae2866-9a97-4d84-a961-0c56980610d6"
      },
      "source": [
        "df_train['city'].value_counts() "
      ],
      "execution_count": null,
      "outputs": [
        {
          "output_type": "execute_result",
          "data": {
            "text/plain": [
              "Vijayanagaram       1259\n",
              "Bhopal              1208\n",
              "Bulandshahr         1185\n",
              "Saharsa[29]         1180\n",
              "Vijayawada          1172\n",
              "                    ... \n",
              "Ujjain               486\n",
              "Warangal[11][12]     459\n",
              "Bettiah[33]          457\n",
              "Katni                448\n",
              "Karaikudi            431\n",
              "Name: city, Length: 317, dtype: int64"
            ]
          },
          "metadata": {
            "tags": []
          },
          "execution_count": 210
        }
      ]
    },
    {
      "cell_type": "code",
      "metadata": {
        "colab": {
          "base_uri": "https://localhost:8080/"
        },
        "id": "Xo52-mKMrYLM",
        "outputId": "92fa91f0-d6c8-4528-e46e-d272ff27cdb7"
      },
      "source": [
        "df_train['state'].value_counts() \n"
      ],
      "execution_count": null,
      "outputs": [
        {
          "output_type": "execute_result",
          "data": {
            "text/plain": [
              "Uttar_Pradesh        28400\n",
              "Maharashtra          25562\n",
              "Andhra_Pradesh       25297\n",
              "West_Bengal          23483\n",
              "Bihar                19780\n",
              "Tamil_Nadu           16537\n",
              "Madhya_Pradesh       14122\n",
              "Karnataka            11855\n",
              "Gujarat              11408\n",
              "Rajasthan             9174\n",
              "Jharkhand             8965\n",
              "Haryana               7890\n",
              "Telangana             7524\n",
              "Assam                 7062\n",
              "Kerala                5805\n",
              "Delhi                 5490\n",
              "Punjab                4720\n",
              "Odisha                4658\n",
              "Chhattisgarh          3834\n",
              "Uttarakhand           1874\n",
              "Jammu_and_Kashmir     1780\n",
              "Puducherry            1433\n",
              "Manipur                849\n",
              "Mizoram                849\n",
              "Himachal_Pradesh       833\n",
              "Tripura                809\n",
              "Uttar_Pradesh[5]       743\n",
              "Chandigarh             656\n",
              "Sikkim                 608\n",
              "Name: state, dtype: int64"
            ]
          },
          "metadata": {
            "tags": []
          },
          "execution_count": 211
        }
      ]
    },
    {
      "cell_type": "code",
      "metadata": {
        "id": "zsrbjJrgDuri"
      },
      "source": [
        "df_train['state'].value_counts() \n",
        " \n",
        "ax_4 = sns.countplot(x= 'state', hue= 'risk_flag', data= df_train)\n",
        "ax_4.set_xticklabels(ax_4.get_xticklabels(), rotation=90, fontweight='light',fontsize='x-small')"
      ],
      "execution_count": null,
      "outputs": []
    },
    {
      "cell_type": "code",
      "metadata": {
        "colab": {
          "base_uri": "https://localhost:8080/"
        },
        "id": "3O58xOrFEw5R",
        "outputId": "1a3af828-0a2c-4f8b-f140-e23daaf9584c"
      },
      "source": [
        "df_train['current_job_years'].describe()"
      ],
      "execution_count": null,
      "outputs": [
        {
          "output_type": "execute_result",
          "data": {
            "text/plain": [
              "count    252000.000000\n",
              "mean          6.333877\n",
              "std           3.647053\n",
              "min           0.000000\n",
              "25%           3.000000\n",
              "50%           6.000000\n",
              "75%           9.000000\n",
              "max          14.000000\n",
              "Name: current_job_years, dtype: float64"
            ]
          },
          "metadata": {
            "tags": []
          },
          "execution_count": 213
        }
      ]
    },
    {
      "cell_type": "code",
      "metadata": {
        "colab": {
          "base_uri": "https://localhost:8080/"
        },
        "id": "xKg6VWnVFEjx",
        "outputId": "b25650a8-ad37-4da4-b2e1-cf800c85aa7e"
      },
      "source": [
        "df_train['current_house_years'].describe()"
      ],
      "execution_count": null,
      "outputs": [
        {
          "output_type": "execute_result",
          "data": {
            "text/plain": [
              "count    252000.000000\n",
              "mean         11.997794\n",
              "std           1.399037\n",
              "min          10.000000\n",
              "25%          11.000000\n",
              "50%          12.000000\n",
              "75%          13.000000\n",
              "max          14.000000\n",
              "Name: current_house_years, dtype: float64"
            ]
          },
          "metadata": {
            "tags": []
          },
          "execution_count": 214
        }
      ]
    },
    {
      "cell_type": "code",
      "metadata": {
        "id": "bdcYuBG16UBm"
      },
      "source": [
        "def cleaner(x):\n",
        "  a= \"\".join(x.replace('_', ' ').split())\n",
        "\n",
        "  return a\n",
        "        \n",
        "df_train['city']=df_train['city'].apply(cleaner)\n",
        "df_train['state']=df_train['state'].apply(cleaner)\n",
        "df_train['profession']=df_train['profession'].apply(cleaner)\n",
        "\n",
        "df_test['city']=df_test['city'].apply(cleaner)\n",
        "df_test['state']=df_test['state'].apply(cleaner)\n",
        "df_test['profession']=df_test['profession'].apply(cleaner)"
      ],
      "execution_count": null,
      "outputs": []
    },
    {
      "cell_type": "code",
      "metadata": {
        "id": "u4uIQsmcdPXB"
      },
      "source": [
        "check_city =df_train.city.value_counts().to_dict()\n",
        "check1_city =df_test.city.value_counts().to_dict()\n",
        "check_state =df_train.state.value_counts().to_dict()\n",
        "check1_state =df_test.state.value_counts().to_dict()\n",
        "check_profession =df_train.profession.value_counts().to_dict()\n",
        "check1_profession =df_test.profession.value_counts().to_dict()"
      ],
      "execution_count": null,
      "outputs": []
    },
    {
      "cell_type": "code",
      "metadata": {
        "id": "JU2iBeEjdYhO"
      },
      "source": [
        "df_train['city']=df_train['city'].map(check_city)\n",
        "df_test['city']=df_test['city'].map(check1_city)\n",
        "df_train['state']=df_train['state'].map(check_state)\n",
        "df_test['state']=df_test['state'].map(check1_state)\n",
        "df_train['profession']=df_train['profession'].map(check_profession)\n",
        "df_test['profession']=df_test['profession'].map(check1_profession)"
      ],
      "execution_count": null,
      "outputs": []
    },
    {
      "cell_type": "code",
      "metadata": {
        "id": "_88RymB_H9Io",
        "colab": {
          "base_uri": "https://localhost:8080/",
          "height": 195
        },
        "outputId": "11b2d9fd-5a79-4f36-edaa-2f95a37ea231"
      },
      "source": [
        "df_train[\"profession\"]=pd.factorize(df_train.profession)[0]\n",
        "df_train[\"city\"]=pd.factorize(df_train.city)[0]\n",
        "df_train[\"state\"]=pd.factorize(df_train.state)[0]\n",
        "df_train[\"married\"]=pd.factorize(df_train.married)[0]\n",
        "df_train[\"house_ownership\"]=pd.factorize(df_train.house_ownership)[0]\n",
        "df_train[\"car_ownership\"]=pd.factorize(df_train.car_ownership)[0]\n",
        "df_train.sample(5)"
      ],
      "execution_count": null,
      "outputs": [
        {
          "output_type": "execute_result",
          "data": {
            "text/html": [
              "<div>\n",
              "<style scoped>\n",
              "    .dataframe tbody tr th:only-of-type {\n",
              "        vertical-align: middle;\n",
              "    }\n",
              "\n",
              "    .dataframe tbody tr th {\n",
              "        vertical-align: top;\n",
              "    }\n",
              "\n",
              "    .dataframe thead th {\n",
              "        text-align: right;\n",
              "    }\n",
              "</style>\n",
              "<table border=\"1\" class=\"dataframe\">\n",
              "  <thead>\n",
              "    <tr style=\"text-align: right;\">\n",
              "      <th></th>\n",
              "      <th>Id</th>\n",
              "      <th>income</th>\n",
              "      <th>age</th>\n",
              "      <th>experience</th>\n",
              "      <th>married</th>\n",
              "      <th>house_ownership</th>\n",
              "      <th>car_ownership</th>\n",
              "      <th>profession</th>\n",
              "      <th>city</th>\n",
              "      <th>state</th>\n",
              "      <th>current_job_years</th>\n",
              "      <th>current_house_years</th>\n",
              "      <th>risk_flag</th>\n",
              "    </tr>\n",
              "  </thead>\n",
              "  <tbody>\n",
              "    <tr>\n",
              "      <th>133674</th>\n",
              "      <td>133675</td>\n",
              "      <td>8316469</td>\n",
              "      <td>40</td>\n",
              "      <td>11</td>\n",
              "      <td>0</td>\n",
              "      <td>0</td>\n",
              "      <td>0</td>\n",
              "      <td>48</td>\n",
              "      <td>1</td>\n",
              "      <td>20</td>\n",
              "      <td>5</td>\n",
              "      <td>10</td>\n",
              "      <td>0</td>\n",
              "    </tr>\n",
              "    <tr>\n",
              "      <th>229281</th>\n",
              "      <td>229282</td>\n",
              "      <td>53134</td>\n",
              "      <td>69</td>\n",
              "      <td>16</td>\n",
              "      <td>0</td>\n",
              "      <td>0</td>\n",
              "      <td>0</td>\n",
              "      <td>31</td>\n",
              "      <td>151</td>\n",
              "      <td>14</td>\n",
              "      <td>3</td>\n",
              "      <td>14</td>\n",
              "      <td>0</td>\n",
              "    </tr>\n",
              "    <tr>\n",
              "      <th>145831</th>\n",
              "      <td>145832</td>\n",
              "      <td>7433875</td>\n",
              "      <td>32</td>\n",
              "      <td>12</td>\n",
              "      <td>0</td>\n",
              "      <td>0</td>\n",
              "      <td>1</td>\n",
              "      <td>30</td>\n",
              "      <td>28</td>\n",
              "      <td>4</td>\n",
              "      <td>11</td>\n",
              "      <td>10</td>\n",
              "      <td>0</td>\n",
              "    </tr>\n",
              "    <tr>\n",
              "      <th>186072</th>\n",
              "      <td>186073</td>\n",
              "      <td>6563391</td>\n",
              "      <td>42</td>\n",
              "      <td>9</td>\n",
              "      <td>1</td>\n",
              "      <td>0</td>\n",
              "      <td>0</td>\n",
              "      <td>0</td>\n",
              "      <td>165</td>\n",
              "      <td>11</td>\n",
              "      <td>9</td>\n",
              "      <td>12</td>\n",
              "      <td>0</td>\n",
              "    </tr>\n",
              "    <tr>\n",
              "      <th>181344</th>\n",
              "      <td>181345</td>\n",
              "      <td>2854714</td>\n",
              "      <td>46</td>\n",
              "      <td>20</td>\n",
              "      <td>0</td>\n",
              "      <td>0</td>\n",
              "      <td>0</td>\n",
              "      <td>41</td>\n",
              "      <td>85</td>\n",
              "      <td>8</td>\n",
              "      <td>7</td>\n",
              "      <td>10</td>\n",
              "      <td>0</td>\n",
              "    </tr>\n",
              "  </tbody>\n",
              "</table>\n",
              "</div>"
            ],
            "text/plain": [
              "            Id   income  age  ...  current_job_years  current_house_years  risk_flag\n",
              "133674  133675  8316469   40  ...                  5                   10          0\n",
              "229281  229282    53134   69  ...                  3                   14          0\n",
              "145831  145832  7433875   32  ...                 11                   10          0\n",
              "186072  186073  6563391   42  ...                  9                   12          0\n",
              "181344  181345  2854714   46  ...                  7                   10          0\n",
              "\n",
              "[5 rows x 13 columns]"
            ]
          },
          "metadata": {
            "tags": []
          },
          "execution_count": 218
        }
      ]
    },
    {
      "cell_type": "code",
      "metadata": {
        "id": "Z6wTQ1AhtVQo",
        "colab": {
          "base_uri": "https://localhost:8080/",
          "height": 195
        },
        "outputId": "54ff2224-10d9-46ee-b8c8-fa30ce0dbcbd"
      },
      "source": [
        "df_test[\"profession\"]=pd.factorize(df_test.profession)[0]\n",
        "df_test[\"city\"]=pd.factorize(df_test.city)[0]\n",
        "df_test[\"state\"]=pd.factorize(df_test.state)[0]\n",
        "df_test[\"married\"]=pd.factorize(df_test.married)[0]\n",
        "df_test[\"house_ownership\"]=pd.factorize(df_test.house_ownership)[0]\n",
        "df_test[\"car_ownership\"]=pd.factorize(df_test.car_ownership)[0]\n",
        "df_test.sample(5)"
      ],
      "execution_count": null,
      "outputs": [
        {
          "output_type": "execute_result",
          "data": {
            "text/html": [
              "<div>\n",
              "<style scoped>\n",
              "    .dataframe tbody tr th:only-of-type {\n",
              "        vertical-align: middle;\n",
              "    }\n",
              "\n",
              "    .dataframe tbody tr th {\n",
              "        vertical-align: top;\n",
              "    }\n",
              "\n",
              "    .dataframe thead th {\n",
              "        text-align: right;\n",
              "    }\n",
              "</style>\n",
              "<table border=\"1\" class=\"dataframe\">\n",
              "  <thead>\n",
              "    <tr style=\"text-align: right;\">\n",
              "      <th></th>\n",
              "      <th>id</th>\n",
              "      <th>income</th>\n",
              "      <th>age</th>\n",
              "      <th>experience</th>\n",
              "      <th>married</th>\n",
              "      <th>house_ownership</th>\n",
              "      <th>car_ownership</th>\n",
              "      <th>profession</th>\n",
              "      <th>city</th>\n",
              "      <th>state</th>\n",
              "      <th>current_job_years</th>\n",
              "      <th>current_house_years</th>\n",
              "    </tr>\n",
              "  </thead>\n",
              "  <tbody>\n",
              "    <tr>\n",
              "      <th>137</th>\n",
              "      <td>138</td>\n",
              "      <td>5830306</td>\n",
              "      <td>68</td>\n",
              "      <td>16</td>\n",
              "      <td>1</td>\n",
              "      <td>0</td>\n",
              "      <td>0</td>\n",
              "      <td>3</td>\n",
              "      <td>35</td>\n",
              "      <td>6</td>\n",
              "      <td>7</td>\n",
              "      <td>10</td>\n",
              "    </tr>\n",
              "    <tr>\n",
              "      <th>21359</th>\n",
              "      <td>21360</td>\n",
              "      <td>6530277</td>\n",
              "      <td>32</td>\n",
              "      <td>5</td>\n",
              "      <td>0</td>\n",
              "      <td>0</td>\n",
              "      <td>0</td>\n",
              "      <td>19</td>\n",
              "      <td>39</td>\n",
              "      <td>6</td>\n",
              "      <td>5</td>\n",
              "      <td>13</td>\n",
              "    </tr>\n",
              "    <tr>\n",
              "      <th>23315</th>\n",
              "      <td>23316</td>\n",
              "      <td>6618166</td>\n",
              "      <td>27</td>\n",
              "      <td>1</td>\n",
              "      <td>0</td>\n",
              "      <td>0</td>\n",
              "      <td>1</td>\n",
              "      <td>39</td>\n",
              "      <td>2</td>\n",
              "      <td>6</td>\n",
              "      <td>1</td>\n",
              "      <td>13</td>\n",
              "    </tr>\n",
              "    <tr>\n",
              "      <th>23796</th>\n",
              "      <td>23797</td>\n",
              "      <td>7535330</td>\n",
              "      <td>27</td>\n",
              "      <td>17</td>\n",
              "      <td>0</td>\n",
              "      <td>0</td>\n",
              "      <td>1</td>\n",
              "      <td>21</td>\n",
              "      <td>27</td>\n",
              "      <td>1</td>\n",
              "      <td>5</td>\n",
              "      <td>10</td>\n",
              "    </tr>\n",
              "    <tr>\n",
              "      <th>27158</th>\n",
              "      <td>27159</td>\n",
              "      <td>9775375</td>\n",
              "      <td>62</td>\n",
              "      <td>9</td>\n",
              "      <td>0</td>\n",
              "      <td>0</td>\n",
              "      <td>0</td>\n",
              "      <td>29</td>\n",
              "      <td>50</td>\n",
              "      <td>17</td>\n",
              "      <td>3</td>\n",
              "      <td>12</td>\n",
              "    </tr>\n",
              "  </tbody>\n",
              "</table>\n",
              "</div>"
            ],
            "text/plain": [
              "          id   income  age  ...  state  current_job_years  current_house_years\n",
              "137      138  5830306   68  ...      6                  7                   10\n",
              "21359  21360  6530277   32  ...      6                  5                   13\n",
              "23315  23316  6618166   27  ...      6                  1                   13\n",
              "23796  23797  7535330   27  ...      1                  5                   10\n",
              "27158  27159  9775375   62  ...     17                  3                   12\n",
              "\n",
              "[5 rows x 12 columns]"
            ]
          },
          "metadata": {
            "tags": []
          },
          "execution_count": 219
        }
      ]
    },
    {
      "cell_type": "code",
      "metadata": {
        "id": "1kf8JarFhmF6"
      },
      "source": [
        "from sklearn.preprocessing import MinMaxScaler\n",
        "mm_scaler = MinMaxScaler()\n",
        "df_drop_train = df_train.drop( labels='Id',axis = 1 )\n",
        "col_names_train = list(df_drop_train.columns)\n",
        "df_mm_train = mm_scaler.fit_transform( df_drop_train )\n",
        "df_mm_train = pd.DataFrame(df_mm_train, columns=col_names_train)\n",
        "df_drop_test = df_test.drop( labels='id',axis = 1 )\n",
        "col_names_test = list(df_drop_test.columns)\n",
        "df_mm_test = mm_scaler.fit_transform( df_drop_test )\n",
        "df_mm_test = pd.DataFrame(df_mm_test, columns=col_names_test)"
      ],
      "execution_count": null,
      "outputs": []
    },
    {
      "cell_type": "code",
      "metadata": {
        "id": "_x2k2QFDwirT",
        "colab": {
          "base_uri": "https://localhost:8080/",
          "height": 195
        },
        "outputId": "9f0a7374-2c0f-4699-fdb6-eacb088c291f"
      },
      "source": [
        "from sklearn.model_selection import train_test_split\n",
        "train, test = train_test_split(df_mm_train, test_size=0.2,shuffle=True,random_state=56)\n",
        "test.head(5)"
      ],
      "execution_count": null,
      "outputs": [
        {
          "output_type": "execute_result",
          "data": {
            "text/html": [
              "<div>\n",
              "<style scoped>\n",
              "    .dataframe tbody tr th:only-of-type {\n",
              "        vertical-align: middle;\n",
              "    }\n",
              "\n",
              "    .dataframe tbody tr th {\n",
              "        vertical-align: top;\n",
              "    }\n",
              "\n",
              "    .dataframe thead th {\n",
              "        text-align: right;\n",
              "    }\n",
              "</style>\n",
              "<table border=\"1\" class=\"dataframe\">\n",
              "  <thead>\n",
              "    <tr style=\"text-align: right;\">\n",
              "      <th></th>\n",
              "      <th>income</th>\n",
              "      <th>age</th>\n",
              "      <th>experience</th>\n",
              "      <th>married</th>\n",
              "      <th>house_ownership</th>\n",
              "      <th>car_ownership</th>\n",
              "      <th>profession</th>\n",
              "      <th>city</th>\n",
              "      <th>state</th>\n",
              "      <th>current_job_years</th>\n",
              "      <th>current_house_years</th>\n",
              "      <th>risk_flag</th>\n",
              "    </tr>\n",
              "  </thead>\n",
              "  <tbody>\n",
              "    <tr>\n",
              "      <th>69963</th>\n",
              "      <td>0.241322</td>\n",
              "      <td>0.465517</td>\n",
              "      <td>0.65</td>\n",
              "      <td>0.0</td>\n",
              "      <td>0.0</td>\n",
              "      <td>0.0</td>\n",
              "      <td>0.30</td>\n",
              "      <td>0.376033</td>\n",
              "      <td>0.333333</td>\n",
              "      <td>0.357143</td>\n",
              "      <td>0.00</td>\n",
              "      <td>0.0</td>\n",
              "    </tr>\n",
              "    <tr>\n",
              "      <th>217403</th>\n",
              "      <td>0.255097</td>\n",
              "      <td>0.051724</td>\n",
              "      <td>0.00</td>\n",
              "      <td>0.0</td>\n",
              "      <td>0.0</td>\n",
              "      <td>0.0</td>\n",
              "      <td>0.74</td>\n",
              "      <td>0.305785</td>\n",
              "      <td>0.370370</td>\n",
              "      <td>0.000000</td>\n",
              "      <td>0.75</td>\n",
              "      <td>0.0</td>\n",
              "    </tr>\n",
              "    <tr>\n",
              "      <th>231159</th>\n",
              "      <td>0.167209</td>\n",
              "      <td>0.327586</td>\n",
              "      <td>0.90</td>\n",
              "      <td>0.0</td>\n",
              "      <td>0.0</td>\n",
              "      <td>1.0</td>\n",
              "      <td>0.40</td>\n",
              "      <td>0.946281</td>\n",
              "      <td>0.185185</td>\n",
              "      <td>1.000000</td>\n",
              "      <td>0.50</td>\n",
              "      <td>1.0</td>\n",
              "    </tr>\n",
              "    <tr>\n",
              "      <th>47188</th>\n",
              "      <td>0.319243</td>\n",
              "      <td>0.862069</td>\n",
              "      <td>0.70</td>\n",
              "      <td>0.0</td>\n",
              "      <td>0.0</td>\n",
              "      <td>0.0</td>\n",
              "      <td>0.12</td>\n",
              "      <td>0.776860</td>\n",
              "      <td>0.222222</td>\n",
              "      <td>0.214286</td>\n",
              "      <td>0.75</td>\n",
              "      <td>0.0</td>\n",
              "    </tr>\n",
              "    <tr>\n",
              "      <th>77818</th>\n",
              "      <td>0.057384</td>\n",
              "      <td>0.103448</td>\n",
              "      <td>0.15</td>\n",
              "      <td>0.0</td>\n",
              "      <td>0.0</td>\n",
              "      <td>0.0</td>\n",
              "      <td>0.76</td>\n",
              "      <td>0.619835</td>\n",
              "      <td>0.851852</td>\n",
              "      <td>0.214286</td>\n",
              "      <td>0.00</td>\n",
              "      <td>0.0</td>\n",
              "    </tr>\n",
              "  </tbody>\n",
              "</table>\n",
              "</div>"
            ],
            "text/plain": [
              "          income       age  ...  current_house_years  risk_flag\n",
              "69963   0.241322  0.465517  ...                 0.00        0.0\n",
              "217403  0.255097  0.051724  ...                 0.75        0.0\n",
              "231159  0.167209  0.327586  ...                 0.50        1.0\n",
              "47188   0.319243  0.862069  ...                 0.75        0.0\n",
              "77818   0.057384  0.103448  ...                 0.00        0.0\n",
              "\n",
              "[5 rows x 12 columns]"
            ]
          },
          "metadata": {
            "tags": []
          },
          "execution_count": 221
        }
      ]
    },
    {
      "cell_type": "code",
      "metadata": {
        "id": "IJWBK7j3xl5U"
      },
      "source": [
        " \n",
        "a=train.drop(labels='risk_flag',axis=1)\n",
        "xtrain=a[['income','profession' ]]\n",
        "ytrain=train['risk_flag']\n",
        "\n",
        "b =test.drop(labels='risk_flag',axis=1)\n",
        "xtest=b[['income','profession' ]]\n",
        "ytest=test['risk_flag']"
      ],
      "execution_count": null,
      "outputs": []
    },
    {
      "cell_type": "code",
      "metadata": {
        "id": "5UnzBoSnrGf5"
      },
      "source": [
        "from sklearn.tree import DecisionTreeClassifier\n",
        "from sklearn.model_selection import GridSearchCV\n",
        "\n",
        "def dtree_grid_search(X,y,nfolds):\n",
        "    \n",
        "    param_grid = { 'criterion':['gini','entropy'],'max_depth': np.arange(13, 100)}\n",
        "     \n",
        "    dtree_model=DecisionTreeClassifier()\n",
        "     \n",
        "    dtree_gscv = GridSearchCV(dtree_model, param_grid, cv=nfolds)\n",
        "     \n",
        "    dtree_gscv.fit(X, y)\n",
        "    return dtree_gscv.best_params_"
      ],
      "execution_count": null,
      "outputs": []
    },
    {
      "cell_type": "code",
      "metadata": {
        "id": "_EPzNYDnrghY"
      },
      "source": [
        "dtree_grid_search(X=xtrain,y=ytrain,nfolds=5)"
      ],
      "execution_count": null,
      "outputs": []
    },
    {
      "cell_type": "code",
      "metadata": {
        "id": "5E2SP5xMe1f2"
      },
      "source": [
        "def calc_score(model,xtrain,ytrain,xtest,ytest):\n",
        "  model.fit(xtrain,ytrain)\n",
        "  predict = model.predict(xtrain)\n",
        "  scr1 = score( ytrain,predict )\n",
        "  predict1 = model.predict(xtest)\n",
        "  scr2 = score( ytest,predict1 )\n",
        "  return scr1,scr2"
      ],
      "execution_count": null,
      "outputs": []
    },
    {
      "cell_type": "code",
      "metadata": {
        "id": "T1-b2kRKe5SU"
      },
      "source": [
        "def effect(train_score,test_score,x_axis,title):\n",
        "  plt.style.use(\"fivethirtyeight\")\n",
        "  plt.style.use(\"dark_background\")\n",
        "  plt.figure(figsize=(5,5),dpi=129)\n",
        "  plt.plot(x_axis,train_score,color='orange',label='train_score')\n",
        "  plt.plot(x_axis,test_score,color='cyan',label='test_score')\n",
        "  plt.title(title)\n",
        "  plt.legend()\n",
        "  plt.xlabel(\"parameter_value\")\n",
        "  plt.ylabel(\"roc-auc score\")\n",
        "  plt.show()"
      ],
      "execution_count": null,
      "outputs": []
    },
    {
      "cell_type": "code",
      "metadata": {
        "id": "J5Vxk9EsfPlk"
      },
      "source": [
        "max_depth = [i for i in range(1,50)]\n",
        "train=[]\n",
        "test=[]\n",
        "for i in max_depth:\n",
        "  model= RandomForestClassifier(class_weight='balanced',max_depth=i,random_state=42)\n",
        "  scr1,scr2=calc_score(model,xtrain,ytrain,xtest,ytest)\n",
        "  train.append(scr1)\n",
        "  test.append(scr2)"
      ],
      "execution_count": null,
      "outputs": []
    },
    {
      "cell_type": "code",
      "metadata": {
        "id": "9A-iBaylfTf0"
      },
      "source": [
        "effect(train,test,range(1,50),\"max_depth\")"
      ],
      "execution_count": null,
      "outputs": []
    },
    {
      "cell_type": "code",
      "metadata": {
        "colab": {
          "base_uri": "https://localhost:8080/"
        },
        "id": "O8lK7wPVsB8D",
        "outputId": "da37dcf0-46eb-4c6d-986d-02f7fedbed0f"
      },
      "source": [
        "from sklearn.ensemble import RandomForestClassifier\n",
        "from sklearn.metrics import roc_auc_score as score\n",
        "rfc= RandomForestClassifier(class_weight='balanced',max_depth=12,min_samples_split=437,max_leaf_nodes=300,min_samples_leaf=115,n_estimators=12)\n",
        "rfc.fit(xtrain, ytrain)\n",
        "print(\"RandomForestClassifier\")\n",
        "print(score(ytrain,rfc.predict(xtrain)))\n",
        "print(score(ytest,rfc.predict(xtest) ))"
      ],
      "execution_count": null,
      "outputs": [
        {
          "output_type": "stream",
          "text": [
            "RandomForestClassifier\n",
            "0.6790386436257114\n",
            "0.6729658463118344\n"
          ],
          "name": "stdout"
        }
      ]
    },
    {
      "cell_type": "code",
      "metadata": {
        "colab": {
          "base_uri": "https://localhost:8080/"
        },
        "id": "4TSVM70y0X-a",
        "outputId": "69294630-b7db-447d-aa6c-698d85c1a3a2"
      },
      "source": [
        "from sklearn.model_selection import StratifiedKFold,RepeatedStratifiedKFold\n",
        "from sklearn.model_selection import cross_val_score\n",
        "print('ROC AUC:',  cross_val_score(rfc, xtrain, ytrain, cv=StratifiedKFold(n_splits=5), scoring='roc_auc').mean())"
      ],
      "execution_count": null,
      "outputs": [
        {
          "output_type": "stream",
          "text": [
            "ROC AUC: 0.7370712687471761\n"
          ],
          "name": "stdout"
        }
      ]
    },
    {
      "cell_type": "code",
      "metadata": {
        "id": "ke8QDHsi3c7R"
      },
      "source": [
        "cv1=RepeatedStratifiedKFold(n_splits=10, n_repeats=3, random_state=1)"
      ],
      "execution_count": null,
      "outputs": []
    },
    {
      "cell_type": "code",
      "metadata": {
        "id": "XTB4M1cQ25_p"
      },
      "source": [
        "from xgboost import XGBRFClassifier\n",
        "model = XGBRFClassifier(n_estimators=100, subsample=0.9, colsample_bynode=0.2)\n",
        "n_scores = cross_val_score(model, xtest, ytest, scoring='roc_auc', cv=cv1, n_jobs=-1)"
      ],
      "execution_count": null,
      "outputs": []
    },
    {
      "cell_type": "code",
      "metadata": {
        "colab": {
          "base_uri": "https://localhost:8080/"
        },
        "id": "dv2F3XRV3u5U",
        "outputId": "47c74843-2dda-4bbb-d657-cc043a73af15"
      },
      "source": [
        "#print(n_scores)"
      ],
      "execution_count": null,
      "outputs": [
        {
          "output_type": "stream",
          "text": [
            "[0.53938965 0.51893336 0.5291264  0.54451156 0.5094901  0.54407263\n",
            " 0.54757161 0.54853564 0.5483181  0.54463451 0.54197174 0.51604145\n",
            " 0.5386368  0.56709118 0.52449231 0.54442446 0.55701359 0.54758185\n",
            " 0.54273554 0.53852501 0.52833135 0.55552354 0.55583787 0.55030306\n",
            " 0.53721866 0.54308737 0.56467058 0.5320119  0.52181246 0.55065874]\n"
          ],
          "name": "stdout"
        }
      ]
    },
    {
      "cell_type": "code",
      "metadata": {
        "id": "PxbHXoZCWiia",
        "colab": {
          "base_uri": "https://localhost:8080/"
        },
        "outputId": "aaed5e18-69ba-413c-c856-cc49c7e0b6cc"
      },
      "source": [
        "from sklearn.metrics import roc_auc_score as score\n",
        "clf = DecisionTreeClassifier(  class_weight='balanced',max_depth=14,min_samples_split=210,max_leaf_nodes=810,min_samples_leaf=70)\n",
        "clf.fit(xtrain, ytrain)\n",
        "print(\"DecisionTreeClassifier\")\n",
        "feature_imp=pd.Series(clf.feature_importances_,index=xtrain.columns)\n",
        "k=feature_imp.sort_values()\n",
        "print(score(ytrain,clf.predict(xtrain)))\n",
        "print(score(ytest,clf.predict(xtest) ))\n",
        " "
      ],
      "execution_count": null,
      "outputs": [
        {
          "output_type": "stream",
          "text": [
            "DecisionTreeClassifier\n",
            "0.6078072724703142\n",
            "0.5996121768577671\n"
          ],
          "name": "stdout"
        }
      ]
    },
    {
      "cell_type": "code",
      "metadata": {
        "id": "HVu-GKb6A1Va",
        "colab": {
          "base_uri": "https://localhost:8080/"
        },
        "outputId": "254eb65d-55c2-43f1-ee15-dce0df2c8d5e"
      },
      "source": [
        "from sklearn.neighbors import KNeighborsClassifier\n",
        "neigh = KNeighborsClassifier(n_neighbors=3)\n",
        "neigh.fit(xtrain, ytrain)\n",
        "print(\"KNeighborsClassifier\")\n",
        "print(score(ytrain,neigh.predict(xtrain)))\n",
        "print(score(ytest,neigh.predict(xtest) ))"
      ],
      "execution_count": null,
      "outputs": [
        {
          "output_type": "stream",
          "text": [
            "KNeighborsClassifier\n",
            "0.7546689499098579\n",
            "0.7217402532826275\n"
          ],
          "name": "stdout"
        }
      ]
    },
    {
      "cell_type": "code",
      "metadata": {
        "colab": {
          "base_uri": "https://localhost:8080/",
          "height": 590
        },
        "id": "nnuq_NdEriZ0",
        "outputId": "a259dad9-e84c-4bb0-adca-c4958d929e9f"
      },
      "source": [
        "plt.figure(figsize=(9,5),dpi=120)\n",
        "plt.barh(k.index,k)\n",
        "plt.xlabel('Importance')\n",
        "plt.ylabel('feature_name')\n",
        "plt.title('feature importance')"
      ],
      "execution_count": null,
      "outputs": [
        {
          "output_type": "execute_result",
          "data": {
            "text/plain": [
              "Text(0.5, 1.0, 'feature importance')"
            ]
          },
          "metadata": {
            "tags": []
          },
          "execution_count": 232
        },
        {
          "output_type": "display_data",
          "data": {
            "image/png": "[encoded data removed]",
            "text/plain": [
              "<Figure size 1080x600 with 1 Axes>"
            ]
          },
          "metadata": {
            "tags": [],
            "needs_background": "light"
          }
        }
      ]
    },
    {
      "cell_type": "code",
      "metadata": {
        "id": "ceWkBWQYv74F"
      },
      "source": [
        "id_col=original_df_test.id\n",
        "submission=pd.DataFrame({'id':id_col,'risk_flag':rfc.predict( df_mm_test[['income','profession' ]]   ) })\n",
        "submission.to_csv('/content/drive/MyDrive/Hack Univ/subalyal.csv',index=False)"
      ],
      "execution_count": null,
      "outputs": []
    },
    {
      "cell_type": "code",
      "metadata": {
        "id": "QXRi9h8g3CBX",
        "colab": {
          "base_uri": "https://localhost:8080/",
          "height": 402
        },
        "outputId": "84308ce3-64a7-4a0e-ecb9-2914e7b92fd0"
      },
      "source": [
        "done_test=pd.read_csv('/content/drive/MyDrive/Hack Univ/subalyal.csv')\n",
        "done_test=done_test.astype('int32')\n",
        "done_test"
      ],
      "execution_count": null,
      "outputs": [
        {
          "output_type": "execute_result",
          "data": {
            "text/html": [
              "<div>\n",
              "<style scoped>\n",
              "    .dataframe tbody tr th:only-of-type {\n",
              "        vertical-align: middle;\n",
              "    }\n",
              "\n",
              "    .dataframe tbody tr th {\n",
              "        vertical-align: top;\n",
              "    }\n",
              "\n",
              "    .dataframe thead th {\n",
              "        text-align: right;\n",
              "    }\n",
              "</style>\n",
              "<table border=\"1\" class=\"dataframe\">\n",
              "  <thead>\n",
              "    <tr style=\"text-align: right;\">\n",
              "      <th></th>\n",
              "      <th>id</th>\n",
              "      <th>risk_flag</th>\n",
              "    </tr>\n",
              "  </thead>\n",
              "  <tbody>\n",
              "    <tr>\n",
              "      <th>0</th>\n",
              "      <td>1</td>\n",
              "      <td>1</td>\n",
              "    </tr>\n",
              "    <tr>\n",
              "      <th>1</th>\n",
              "      <td>2</td>\n",
              "      <td>0</td>\n",
              "    </tr>\n",
              "    <tr>\n",
              "      <th>2</th>\n",
              "      <td>3</td>\n",
              "      <td>1</td>\n",
              "    </tr>\n",
              "    <tr>\n",
              "      <th>3</th>\n",
              "      <td>4</td>\n",
              "      <td>0</td>\n",
              "    </tr>\n",
              "    <tr>\n",
              "      <th>4</th>\n",
              "      <td>5</td>\n",
              "      <td>1</td>\n",
              "    </tr>\n",
              "    <tr>\n",
              "      <th>...</th>\n",
              "      <td>...</td>\n",
              "      <td>...</td>\n",
              "    </tr>\n",
              "    <tr>\n",
              "      <th>27995</th>\n",
              "      <td>27996</td>\n",
              "      <td>0</td>\n",
              "    </tr>\n",
              "    <tr>\n",
              "      <th>27996</th>\n",
              "      <td>27997</td>\n",
              "      <td>0</td>\n",
              "    </tr>\n",
              "    <tr>\n",
              "      <th>27997</th>\n",
              "      <td>27998</td>\n",
              "      <td>1</td>\n",
              "    </tr>\n",
              "    <tr>\n",
              "      <th>27998</th>\n",
              "      <td>27999</td>\n",
              "      <td>1</td>\n",
              "    </tr>\n",
              "    <tr>\n",
              "      <th>27999</th>\n",
              "      <td>28000</td>\n",
              "      <td>0</td>\n",
              "    </tr>\n",
              "  </tbody>\n",
              "</table>\n",
              "<p>28000 rows × 2 columns</p>\n",
              "</div>"
            ],
            "text/plain": [
              "          id  risk_flag\n",
              "0          1          1\n",
              "1          2          0\n",
              "2          3          1\n",
              "3          4          0\n",
              "4          5          1\n",
              "...      ...        ...\n",
              "27995  27996          0\n",
              "27996  27997          0\n",
              "27997  27998          1\n",
              "27998  27999          1\n",
              "27999  28000          0\n",
              "\n",
              "[28000 rows x 2 columns]"
            ]
          },
          "metadata": {
            "tags": []
          },
          "execution_count": 237
        }
      ]
    },
    {
      "cell_type": "code",
      "metadata": {
        "id": "PyiVMnLi3S8d"
      },
      "source": [
        "done_test.to_csv('/content/drive/MyDrive/Hack Univ/subalyal.csv',index=False)"
      ],
      "execution_count": null,
      "outputs": []
    }
  ]
}