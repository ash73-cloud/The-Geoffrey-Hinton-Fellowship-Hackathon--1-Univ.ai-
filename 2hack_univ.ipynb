{
  "nbformat": 4,
  "nbformat_minor": 0,
  "metadata": {
    "colab": {
      "name": "2hack_univ.ipynb",
      "provenance": [],
      "collapsed_sections": []
    },
    "kernelspec": {
      "name": "python3",
      "display_name": "Python 3"
    },
    "language_info": {
      "name": "python"
    }
  },
  "cells": [
    {
      "cell_type": "code",
      "metadata": {
        "id": "Me38MTnAjQoD"
      },
      "source": [
        "import pandas as pd\n",
        "import numpy as np\n",
        "import matplotlib.pyplot as plt\n",
        "import seaborn as sns\n"
      ],
      "execution_count": null,
      "outputs": []
    },
    {
      "cell_type": "code",
      "metadata": {
        "id": "BuDK4Pi2j0Ch"
      },
      "source": [
        "df_train=pd.read_csv(\"/content/drive/MyDrive/Hack Univ/Training Data.csv\")\n",
        "df_test=pd.read_csv(\"/content/drive/MyDrive/Hack Univ/Test Data.csv\")\n",
        "original_df_test=df_test.copy()\n",
        " "
      ],
      "execution_count": null,
      "outputs": []
    },
    {
      "cell_type": "code",
      "metadata": {
        "colab": {
          "base_uri": "https://localhost:8080/",
          "height": 232
        },
        "id": "p957_oMDlYv5",
        "outputId": "feac800e-22c1-4187-8072-a8d5b1cdf75c"
      },
      "source": [
        "df_train.sample(5)"
      ],
      "execution_count": null,
      "outputs": [
        {
          "output_type": "execute_result",
          "data": {
            "text/html": [
              "<div>\n",
              "<style scoped>\n",
              "    .dataframe tbody tr th:only-of-type {\n",
              "        vertical-align: middle;\n",
              "    }\n",
              "\n",
              "    .dataframe tbody tr th {\n",
              "        vertical-align: top;\n",
              "    }\n",
              "\n",
              "    .dataframe thead th {\n",
              "        text-align: right;\n",
              "    }\n",
              "</style>\n",
              "<table border=\"1\" class=\"dataframe\">\n",
              "  <thead>\n",
              "    <tr style=\"text-align: right;\">\n",
              "      <th></th>\n",
              "      <th>Id</th>\n",
              "      <th>income</th>\n",
              "      <th>age</th>\n",
              "      <th>experience</th>\n",
              "      <th>married</th>\n",
              "      <th>house_ownership</th>\n",
              "      <th>car_ownership</th>\n",
              "      <th>profession</th>\n",
              "      <th>city</th>\n",
              "      <th>state</th>\n",
              "      <th>current_job_years</th>\n",
              "      <th>current_house_years</th>\n",
              "      <th>risk_flag</th>\n",
              "    </tr>\n",
              "  </thead>\n",
              "  <tbody>\n",
              "    <tr>\n",
              "      <th>27440</th>\n",
              "      <td>27441</td>\n",
              "      <td>4939664</td>\n",
              "      <td>61</td>\n",
              "      <td>14</td>\n",
              "      <td>married</td>\n",
              "      <td>rented</td>\n",
              "      <td>yes</td>\n",
              "      <td>Financial_Analyst</td>\n",
              "      <td>Danapur</td>\n",
              "      <td>Bihar</td>\n",
              "      <td>4</td>\n",
              "      <td>12</td>\n",
              "      <td>0</td>\n",
              "    </tr>\n",
              "    <tr>\n",
              "      <th>182520</th>\n",
              "      <td>182521</td>\n",
              "      <td>5692330</td>\n",
              "      <td>78</td>\n",
              "      <td>9</td>\n",
              "      <td>single</td>\n",
              "      <td>rented</td>\n",
              "      <td>no</td>\n",
              "      <td>Police_officer</td>\n",
              "      <td>Kurnool[18]</td>\n",
              "      <td>Andhra_Pradesh</td>\n",
              "      <td>9</td>\n",
              "      <td>14</td>\n",
              "      <td>0</td>\n",
              "    </tr>\n",
              "    <tr>\n",
              "      <th>45903</th>\n",
              "      <td>45904</td>\n",
              "      <td>4156095</td>\n",
              "      <td>65</td>\n",
              "      <td>5</td>\n",
              "      <td>single</td>\n",
              "      <td>rented</td>\n",
              "      <td>no</td>\n",
              "      <td>Industrial_Engineer</td>\n",
              "      <td>Jorhat</td>\n",
              "      <td>Assam</td>\n",
              "      <td>5</td>\n",
              "      <td>13</td>\n",
              "      <td>0</td>\n",
              "    </tr>\n",
              "    <tr>\n",
              "      <th>216189</th>\n",
              "      <td>216190</td>\n",
              "      <td>7870602</td>\n",
              "      <td>79</td>\n",
              "      <td>18</td>\n",
              "      <td>single</td>\n",
              "      <td>rented</td>\n",
              "      <td>yes</td>\n",
              "      <td>Magistrate</td>\n",
              "      <td>Rajahmundry[19][20]</td>\n",
              "      <td>Andhra_Pradesh</td>\n",
              "      <td>4</td>\n",
              "      <td>14</td>\n",
              "      <td>1</td>\n",
              "    </tr>\n",
              "    <tr>\n",
              "      <th>136282</th>\n",
              "      <td>136283</td>\n",
              "      <td>3705729</td>\n",
              "      <td>73</td>\n",
              "      <td>4</td>\n",
              "      <td>single</td>\n",
              "      <td>rented</td>\n",
              "      <td>no</td>\n",
              "      <td>Architect</td>\n",
              "      <td>New_Delhi</td>\n",
              "      <td>Delhi</td>\n",
              "      <td>4</td>\n",
              "      <td>13</td>\n",
              "      <td>0</td>\n",
              "    </tr>\n",
              "  </tbody>\n",
              "</table>\n",
              "</div>"
            ],
            "text/plain": [
              "            Id   income  age  ...  current_job_years current_house_years risk_flag\n",
              "27440    27441  4939664   61  ...                  4                  12         0\n",
              "182520  182521  5692330   78  ...                  9                  14         0\n",
              "45903    45904  4156095   65  ...                  5                  13         0\n",
              "216189  216190  7870602   79  ...                  4                  14         1\n",
              "136282  136283  3705729   73  ...                  4                  13         0\n",
              "\n",
              "[5 rows x 13 columns]"
            ]
          },
          "metadata": {
            "tags": []
          },
          "execution_count": 179
        }
      ]
    },
    {
      "cell_type": "code",
      "metadata": {
        "colab": {
          "base_uri": "https://localhost:8080/"
        },
        "id": "VqIyJd5BjJAJ",
        "outputId": "2baea2bb-5638-40d0-e878-6ecec1db2ac3"
      },
      "source": [
        "df_train.columns"
      ],
      "execution_count": null,
      "outputs": [
        {
          "output_type": "execute_result",
          "data": {
            "text/plain": [
              "Index(['Id', 'income', 'age', 'experience', 'married', 'house_ownership',\n",
              "       'car_ownership', 'profession', 'city', 'state', 'current_job_years',\n",
              "       'current_house_years', 'risk_flag'],\n",
              "      dtype='object')"
            ]
          },
          "metadata": {
            "tags": []
          },
          "execution_count": 180
        }
      ]
    },
    {
      "cell_type": "code",
      "metadata": {
        "colab": {
          "base_uri": "https://localhost:8080/"
        },
        "id": "gsoDTYJfwl-B",
        "outputId": "61bcfb36-73fb-4998-a283-f35efb2004eb"
      },
      "source": [
        "original_df_test.columns"
      ],
      "execution_count": null,
      "outputs": [
        {
          "output_type": "execute_result",
          "data": {
            "text/plain": [
              "Index(['id', 'income', 'age', 'experience', 'married', 'house_ownership',\n",
              "       'car_ownership', 'profession', 'city', 'state', 'current_job_years',\n",
              "       'current_house_years'],\n",
              "      dtype='object')"
            ]
          },
          "metadata": {
            "tags": []
          },
          "execution_count": 181
        }
      ]
    },
    {
      "cell_type": "code",
      "metadata": {
        "colab": {
          "base_uri": "https://localhost:8080/"
        },
        "id": "GWjoR0C8lbWm",
        "outputId": "a54bde41-57f9-46a6-8091-e449c7b2663e"
      },
      "source": [
        " df_train.info()"
      ],
      "execution_count": null,
      "outputs": [
        {
          "output_type": "stream",
          "text": [
            "<class 'pandas.core.frame.DataFrame'>\n",
            "RangeIndex: 252000 entries, 0 to 251999\n",
            "Data columns (total 13 columns):\n",
            " #   Column               Non-Null Count   Dtype \n",
            "---  ------               --------------   ----- \n",
            " 0   Id                   252000 non-null  int64 \n",
            " 1   income               252000 non-null  int64 \n",
            " 2   age                  252000 non-null  int64 \n",
            " 3   experience           252000 non-null  int64 \n",
            " 4   married              252000 non-null  object\n",
            " 5   house_ownership      252000 non-null  object\n",
            " 6   car_ownership        252000 non-null  object\n",
            " 7   profession           252000 non-null  object\n",
            " 8   city                 252000 non-null  object\n",
            " 9   state                252000 non-null  object\n",
            " 10  current_job_years    252000 non-null  int64 \n",
            " 11  current_house_years  252000 non-null  int64 \n",
            " 12  risk_flag            252000 non-null  int64 \n",
            "dtypes: int64(7), object(6)\n",
            "memory usage: 25.0+ MB\n"
          ],
          "name": "stdout"
        }
      ]
    },
    {
      "cell_type": "code",
      "metadata": {
        "colab": {
          "base_uri": "https://localhost:8080/"
        },
        "id": "sMA3Y3Vup2Sg",
        "outputId": "b978ac00-33dd-498e-cc7d-0d31178e5006"
      },
      "source": [
        "df_train['experience'].unique()"
      ],
      "execution_count": null,
      "outputs": [
        {
          "output_type": "execute_result",
          "data": {
            "text/plain": [
              "array([ 3, 10,  4,  2, 11,  0, 14, 17, 12,  7,  9,  6,  8,  1, 13, 19, 15,\n",
              "       20,  5, 16, 18])"
            ]
          },
          "metadata": {
            "tags": []
          },
          "execution_count": 183
        }
      ]
    },
    {
      "cell_type": "code",
      "metadata": {
        "colab": {
          "base_uri": "https://localhost:8080/"
        },
        "id": "L8V5dIOj5g-9",
        "outputId": "14e6ec9d-ea06-4b56-e2d6-7fe0259b845b"
      },
      "source": [
        "df_train['risk_flag'].value_counts()"
      ],
      "execution_count": null,
      "outputs": [
        {
          "output_type": "execute_result",
          "data": {
            "text/plain": [
              "0    221004\n",
              "1     30996\n",
              "Name: risk_flag, dtype: int64"
            ]
          },
          "metadata": {
            "tags": []
          },
          "execution_count": 184
        }
      ]
    },
    {
      "cell_type": "code",
      "metadata": {
        "colab": {
          "base_uri": "https://localhost:8080/",
          "height": 306
        },
        "id": "BmYdO-u71vbw",
        "outputId": "180fefae-7f74-44c5-b022-5442240c9594"
      },
      "source": [
        "ax_0 = sns.countplot(x='experience', hue= 'risk_flag', data= df_train)"
      ],
      "execution_count": null,
      "outputs": [
        {
          "output_type": "display_data",
          "data": {
            "image/png": "[encoded data removed]",
            "text/plain": [
              "<Figure size 432x288 with 1 Axes>"
            ]
          },
          "metadata": {
            "tags": []
          }
        }
      ]
    },
    {
      "cell_type": "code",
      "metadata": {
        "colab": {
          "base_uri": "https://localhost:8080/",
          "height": 304
        },
        "id": "lTtRU62j2ViV",
        "outputId": "c26fef21-c159-4337-f0ff-b8e0144e9c7d"
      },
      "source": [
        "ax_1 = sns.countplot(x='married', hue= 'risk_flag', data= df_train)"
      ],
      "execution_count": null,
      "outputs": [
        {
          "output_type": "display_data",
          "data": {
            "image/png": "[encoded data removed]",
            "text/plain": [
              "<Figure size 432x288 with 1 Axes>"
            ]
          },
          "metadata": {
            "tags": []
          }
        }
      ]
    },
    {
      "cell_type": "code",
      "metadata": {
        "colab": {
          "base_uri": "https://localhost:8080/"
        },
        "id": "2dJoRqTW8jci",
        "outputId": "9060c1fe-e8e5-48f6-86e7-f378d6721047"
      },
      "source": [
        "df_train['house_ownership'].unique()"
      ],
      "execution_count": null,
      "outputs": [
        {
          "output_type": "execute_result",
          "data": {
            "text/plain": [
              "array(['rented', 'norent_noown', 'owned'], dtype=object)"
            ]
          },
          "metadata": {
            "tags": []
          },
          "execution_count": 187
        }
      ]
    },
    {
      "cell_type": "code",
      "metadata": {
        "colab": {
          "base_uri": "https://localhost:8080/",
          "height": 304
        },
        "id": "IlFuTf499dgJ",
        "outputId": "de8f4fcd-709b-4640-aa5b-ca6174d698d2"
      },
      "source": [
        "ax_2 = sns.countplot(x='house_ownership', hue= 'risk_flag', data= df_train)"
      ],
      "execution_count": null,
      "outputs": [
        {
          "output_type": "display_data",
          "data": {
            "image/png": "[encoded data removed]",
            "text/plain": [
              "<Figure size 432x288 with 1 Axes>"
            ]
          },
          "metadata": {
            "tags": []
          }
        }
      ]
    },
    {
      "cell_type": "code",
      "metadata": {
        "colab": {
          "base_uri": "https://localhost:8080/",
          "height": 304
        },
        "id": "3ovaRCy79zip",
        "outputId": "c0813eb4-4965-4343-c59b-ccf54c6d6148"
      },
      "source": [
        "df_train['car_ownership'].unique()\n",
        "ax_3 = sns.countplot(x='car_ownership', hue= 'risk_flag', data= df_train)"
      ],
      "execution_count": null,
      "outputs": [
        {
          "output_type": "display_data",
          "data": {
            "image/png": "[encoded data removed]",
            "text/plain": [
              "<Figure size 432x288 with 1 Axes>"
            ]
          },
          "metadata": {
            "tags": []
          }
        }
      ]
    },
    {
      "cell_type": "code",
      "metadata": {
        "colab": {
          "base_uri": "https://localhost:8080/",
          "height": 1000
        },
        "id": "mnOsc3Ys-dfO",
        "outputId": "c1557761-138c-44e0-c33f-d3ee46c6e964"
      },
      "source": [
        " \n",
        "ax_4 = sns.countplot(x= 'profession', hue= 'risk_flag', data= df_train)\n",
        "ax_4.set_xticklabels(ax_4.get_xticklabels(), rotation=90, fontweight='light',\n",
        "    fontsize='x-small')"
      ],
      "execution_count": null,
      "outputs": [
        {
          "output_type": "execute_result",
          "data": {
            "text/plain": [
              "[Text(0, 0, 'Mechanical_engineer'),\n",
              " Text(0, 0, 'Software_Developer'),\n",
              " Text(0, 0, 'Technical_writer'),\n",
              " Text(0, 0, 'Civil_servant'),\n",
              " Text(0, 0, 'Librarian'),\n",
              " Text(0, 0, 'Economist'),\n",
              " Text(0, 0, 'Flight_attendant'),\n",
              " Text(0, 0, 'Architect'),\n",
              " Text(0, 0, 'Designer'),\n",
              " Text(0, 0, 'Physician'),\n",
              " Text(0, 0, 'Financial_Analyst'),\n",
              " Text(0, 0, 'Air_traffic_controller'),\n",
              " Text(0, 0, 'Politician'),\n",
              " Text(0, 0, 'Police_officer'),\n",
              " Text(0, 0, 'Artist'),\n",
              " Text(0, 0, 'Surveyor'),\n",
              " Text(0, 0, 'Design_Engineer'),\n",
              " Text(0, 0, 'Chemical_engineer'),\n",
              " Text(0, 0, 'Hotel_Manager'),\n",
              " Text(0, 0, 'Dentist'),\n",
              " Text(0, 0, 'Comedian'),\n",
              " Text(0, 0, 'Biomedical_Engineer'),\n",
              " Text(0, 0, 'Graphic_Designer'),\n",
              " Text(0, 0, 'Computer_hardware_engineer'),\n",
              " Text(0, 0, 'Petroleum_Engineer'),\n",
              " Text(0, 0, 'Secretary'),\n",
              " Text(0, 0, 'Computer_operator'),\n",
              " Text(0, 0, 'Chartered_Accountant'),\n",
              " Text(0, 0, 'Technician'),\n",
              " Text(0, 0, 'Microbiologist'),\n",
              " Text(0, 0, 'Fashion_Designer'),\n",
              " Text(0, 0, 'Aviator'),\n",
              " Text(0, 0, 'Psychologist'),\n",
              " Text(0, 0, 'Magistrate'),\n",
              " Text(0, 0, 'Lawyer'),\n",
              " Text(0, 0, 'Firefighter'),\n",
              " Text(0, 0, 'Engineer'),\n",
              " Text(0, 0, 'Official'),\n",
              " Text(0, 0, 'Analyst'),\n",
              " Text(0, 0, 'Geologist'),\n",
              " Text(0, 0, 'Drafter'),\n",
              " Text(0, 0, 'Statistician'),\n",
              " Text(0, 0, 'Web_designer'),\n",
              " Text(0, 0, 'Consultant'),\n",
              " Text(0, 0, 'Chef'),\n",
              " Text(0, 0, 'Army_officer'),\n",
              " Text(0, 0, 'Surgeon'),\n",
              " Text(0, 0, 'Scientist'),\n",
              " Text(0, 0, 'Civil_engineer'),\n",
              " Text(0, 0, 'Industrial_Engineer'),\n",
              " Text(0, 0, 'Technology_specialist')]"
            ]
          },
          "metadata": {
            "tags": []
          },
          "execution_count": 190
        },
        {
          "output_type": "display_data",
          "data": {
            "image/png": "[encoded data removed]",
            "text/plain": [
              "<Figure size 432x288 with 1 Axes>"
            ]
          },
          "metadata": {
            "tags": []
          }
        }
      ]
    },
    {
      "cell_type": "code",
      "metadata": {
        "colab": {
          "base_uri": "https://localhost:8080/"
        },
        "id": "jnhlpJWR-49N",
        "outputId": "10c2c9c0-2e2f-4f20-e59d-476fca87e222"
      },
      "source": [
        "df_train['city'].value_counts() "
      ],
      "execution_count": null,
      "outputs": [
        {
          "output_type": "execute_result",
          "data": {
            "text/plain": [
              "Vijayanagaram       1259\n",
              "Bhopal              1208\n",
              "Bulandshahr         1185\n",
              "Saharsa[29]         1180\n",
              "Vijayawada          1172\n",
              "                    ... \n",
              "Ujjain               486\n",
              "Warangal[11][12]     459\n",
              "Bettiah[33]          457\n",
              "Katni                448\n",
              "Karaikudi            431\n",
              "Name: city, Length: 317, dtype: int64"
            ]
          },
          "metadata": {
            "tags": []
          },
          "execution_count": 191
        }
      ]
    },
    {
      "cell_type": "code",
      "metadata": {
        "colab": {
          "base_uri": "https://localhost:8080/"
        },
        "id": "Xo52-mKMrYLM",
        "outputId": "be4b4fd7-21e2-4a25-af09-bd2f7fb44571"
      },
      "source": [
        "df_train['state'].value_counts() \n"
      ],
      "execution_count": null,
      "outputs": [
        {
          "output_type": "execute_result",
          "data": {
            "text/plain": [
              "Uttar_Pradesh        28400\n",
              "Maharashtra          25562\n",
              "Andhra_Pradesh       25297\n",
              "West_Bengal          23483\n",
              "Bihar                19780\n",
              "Tamil_Nadu           16537\n",
              "Madhya_Pradesh       14122\n",
              "Karnataka            11855\n",
              "Gujarat              11408\n",
              "Rajasthan             9174\n",
              "Jharkhand             8965\n",
              "Haryana               7890\n",
              "Telangana             7524\n",
              "Assam                 7062\n",
              "Kerala                5805\n",
              "Delhi                 5490\n",
              "Punjab                4720\n",
              "Odisha                4658\n",
              "Chhattisgarh          3834\n",
              "Uttarakhand           1874\n",
              "Jammu_and_Kashmir     1780\n",
              "Puducherry            1433\n",
              "Manipur                849\n",
              "Mizoram                849\n",
              "Himachal_Pradesh       833\n",
              "Tripura                809\n",
              "Uttar_Pradesh[5]       743\n",
              "Chandigarh             656\n",
              "Sikkim                 608\n",
              "Name: state, dtype: int64"
            ]
          },
          "metadata": {
            "tags": []
          },
          "execution_count": 192
        }
      ]
    },
    {
      "cell_type": "code",
      "metadata": {
        "colab": {
          "base_uri": "https://localhost:8080/",
          "height": 879
        },
        "id": "zsrbjJrgDuri",
        "outputId": "8c612f38-fcef-4f37-8900-2c41c0b96acc"
      },
      "source": [
        "df_train['state'].value_counts() \n",
        " \n",
        "ax_4 = sns.countplot(x= 'state', hue= 'risk_flag', data= df_train)\n",
        "ax_4.set_xticklabels(ax_4.get_xticklabels(), rotation=90, fontweight='light',\n",
        "    fontsize='x-small')"
      ],
      "execution_count": null,
      "outputs": [
        {
          "output_type": "execute_result",
          "data": {
            "text/plain": [
              "[Text(0, 0, 'Madhya_Pradesh'),\n",
              " Text(0, 0, 'Maharashtra'),\n",
              " Text(0, 0, 'Kerala'),\n",
              " Text(0, 0, 'Odisha'),\n",
              " Text(0, 0, 'Tamil_Nadu'),\n",
              " Text(0, 0, 'Gujarat'),\n",
              " Text(0, 0, 'Rajasthan'),\n",
              " Text(0, 0, 'Telangana'),\n",
              " Text(0, 0, 'Bihar'),\n",
              " Text(0, 0, 'Andhra_Pradesh'),\n",
              " Text(0, 0, 'West_Bengal'),\n",
              " Text(0, 0, 'Haryana'),\n",
              " Text(0, 0, 'Puducherry'),\n",
              " Text(0, 0, 'Karnataka'),\n",
              " Text(0, 0, 'Uttar_Pradesh'),\n",
              " Text(0, 0, 'Himachal_Pradesh'),\n",
              " Text(0, 0, 'Punjab'),\n",
              " Text(0, 0, 'Tripura'),\n",
              " Text(0, 0, 'Uttarakhand'),\n",
              " Text(0, 0, 'Jharkhand'),\n",
              " Text(0, 0, 'Mizoram'),\n",
              " Text(0, 0, 'Assam'),\n",
              " Text(0, 0, 'Jammu_and_Kashmir'),\n",
              " Text(0, 0, 'Delhi'),\n",
              " Text(0, 0, 'Chhattisgarh'),\n",
              " Text(0, 0, 'Chandigarh'),\n",
              " Text(0, 0, 'Uttar_Pradesh[5]'),\n",
              " Text(0, 0, 'Manipur'),\n",
              " Text(0, 0, 'Sikkim')]"
            ]
          },
          "metadata": {
            "tags": []
          },
          "execution_count": 193
        },
        {
          "output_type": "display_data",
          "data": {
            "image/png": "[encoded data removed]",
            "text/plain": [
              "<Figure size 432x288 with 1 Axes>"
            ]
          },
          "metadata": {
            "tags": []
          }
        }
      ]
    },
    {
      "cell_type": "code",
      "metadata": {
        "colab": {
          "base_uri": "https://localhost:8080/"
        },
        "id": "3O58xOrFEw5R",
        "outputId": "f5053ad0-5fcf-4324-ff4b-76271837be1a"
      },
      "source": [
        "df_train['current_job_years'].describe()"
      ],
      "execution_count": null,
      "outputs": [
        {
          "output_type": "execute_result",
          "data": {
            "text/plain": [
              "count    252000.000000\n",
              "mean          6.333877\n",
              "std           3.647053\n",
              "min           0.000000\n",
              "25%           3.000000\n",
              "50%           6.000000\n",
              "75%           9.000000\n",
              "max          14.000000\n",
              "Name: current_job_years, dtype: float64"
            ]
          },
          "metadata": {
            "tags": []
          },
          "execution_count": 194
        }
      ]
    },
    {
      "cell_type": "code",
      "metadata": {
        "colab": {
          "base_uri": "https://localhost:8080/"
        },
        "id": "xKg6VWnVFEjx",
        "outputId": "a3ad22b5-ebde-4247-f6b7-7d61be6cefec"
      },
      "source": [
        "df_train['current_house_years'].describe()"
      ],
      "execution_count": null,
      "outputs": [
        {
          "output_type": "execute_result",
          "data": {
            "text/plain": [
              "count    252000.000000\n",
              "mean         11.997794\n",
              "std           1.399037\n",
              "min          10.000000\n",
              "25%          11.000000\n",
              "50%          12.000000\n",
              "75%          13.000000\n",
              "max          14.000000\n",
              "Name: current_house_years, dtype: float64"
            ]
          },
          "metadata": {
            "tags": []
          },
          "execution_count": 195
        }
      ]
    },
    {
      "cell_type": "code",
      "metadata": {
        "id": "bdcYuBG16UBm"
      },
      "source": [
        "def cleaner(x):\n",
        "  a= \"\".join(x.replace('_', ' ').split())\n",
        "\n",
        "  return a\n",
        "        \n",
        "df_train['city']=df_train['city'].apply(cleaner)\n",
        "df_train['state']=df_train['state'].apply(cleaner)\n",
        "df_train['profession']=df_train['profession'].apply(cleaner)\n",
        "\n",
        "df_test['city']=df_test['city'].apply(cleaner)\n",
        "df_test['state']=df_test['state'].apply(cleaner)\n",
        "df_test['profession']=df_test['profession'].apply(cleaner)"
      ],
      "execution_count": null,
      "outputs": []
    },
    {
      "cell_type": "code",
      "metadata": {
        "id": "u4uIQsmcdPXB"
      },
      "source": [
        "check_city =df_train.city.value_counts().to_dict()\n",
        "check1_city =df_test.city.value_counts().to_dict()\n",
        "check_state =df_train.state.value_counts().to_dict()\n",
        "check1_state =df_test.state.value_counts().to_dict()\n",
        "check_profession =df_train.profession.value_counts().to_dict()\n",
        "check1_profession =df_test.profession.value_counts().to_dict()\n"
      ],
      "execution_count": null,
      "outputs": []
    },
    {
      "cell_type": "code",
      "metadata": {
        "id": "JU2iBeEjdYhO"
      },
      "source": [
        "df_train['city']=df_train['city'].map(check_city)\n",
        "df_test['city']=df_test['city'].map(check1_city)\n",
        "df_train['state']=df_train['state'].map(check_state)\n",
        "df_test['state']=df_test['state'].map(check1_state)\n",
        "df_train['profession']=df_train['profession'].map(check_profession)\n",
        "df_test['profession']=df_test['profession'].map(check1_profession)"
      ],
      "execution_count": null,
      "outputs": []
    },
    {
      "cell_type": "code",
      "metadata": {
        "id": "_88RymB_H9Io",
        "colab": {
          "base_uri": "https://localhost:8080/",
          "height": 195
        },
        "outputId": "1cce170b-47ff-4cdc-a44d-9ff366434b7c"
      },
      "source": [
        "df_train[\"profession\"]=pd.factorize(df_train.profession)[0]\n",
        "df_train[\"city\"]=pd.factorize(df_train.city)[0]\n",
        "df_train[\"state\"]=pd.factorize(df_train.state)[0]\n",
        "df_train[\"married\"]=pd.factorize(df_train.married)[0]\n",
        "df_train[\"house_ownership\"]=pd.factorize(df_train.house_ownership)[0]\n",
        "df_train[\"car_ownership\"]=pd.factorize(df_train.car_ownership)[0]\n",
        "df_train.sample(5)"
      ],
      "execution_count": null,
      "outputs": [
        {
          "output_type": "execute_result",
          "data": {
            "text/html": [
              "<div>\n",
              "<style scoped>\n",
              "    .dataframe tbody tr th:only-of-type {\n",
              "        vertical-align: middle;\n",
              "    }\n",
              "\n",
              "    .dataframe tbody tr th {\n",
              "        vertical-align: top;\n",
              "    }\n",
              "\n",
              "    .dataframe thead th {\n",
              "        text-align: right;\n",
              "    }\n",
              "</style>\n",
              "<table border=\"1\" class=\"dataframe\">\n",
              "  <thead>\n",
              "    <tr style=\"text-align: right;\">\n",
              "      <th></th>\n",
              "      <th>Id</th>\n",
              "      <th>income</th>\n",
              "      <th>age</th>\n",
              "      <th>experience</th>\n",
              "      <th>married</th>\n",
              "      <th>house_ownership</th>\n",
              "      <th>car_ownership</th>\n",
              "      <th>profession</th>\n",
              "      <th>city</th>\n",
              "      <th>state</th>\n",
              "      <th>current_job_years</th>\n",
              "      <th>current_house_years</th>\n",
              "      <th>risk_flag</th>\n",
              "    </tr>\n",
              "  </thead>\n",
              "  <tbody>\n",
              "    <tr>\n",
              "      <th>29080</th>\n",
              "      <td>29081</td>\n",
              "      <td>383282</td>\n",
              "      <td>23</td>\n",
              "      <td>0</td>\n",
              "      <td>0</td>\n",
              "      <td>0</td>\n",
              "      <td>1</td>\n",
              "      <td>20</td>\n",
              "      <td>68</td>\n",
              "      <td>14</td>\n",
              "      <td>0</td>\n",
              "      <td>13</td>\n",
              "      <td>0</td>\n",
              "    </tr>\n",
              "    <tr>\n",
              "      <th>174363</th>\n",
              "      <td>174364</td>\n",
              "      <td>5660425</td>\n",
              "      <td>55</td>\n",
              "      <td>3</td>\n",
              "      <td>0</td>\n",
              "      <td>0</td>\n",
              "      <td>0</td>\n",
              "      <td>18</td>\n",
              "      <td>219</td>\n",
              "      <td>4</td>\n",
              "      <td>3</td>\n",
              "      <td>13</td>\n",
              "      <td>0</td>\n",
              "    </tr>\n",
              "    <tr>\n",
              "      <th>230557</th>\n",
              "      <td>230558</td>\n",
              "      <td>2102500</td>\n",
              "      <td>43</td>\n",
              "      <td>12</td>\n",
              "      <td>0</td>\n",
              "      <td>0</td>\n",
              "      <td>0</td>\n",
              "      <td>13</td>\n",
              "      <td>71</td>\n",
              "      <td>4</td>\n",
              "      <td>10</td>\n",
              "      <td>11</td>\n",
              "      <td>0</td>\n",
              "    </tr>\n",
              "    <tr>\n",
              "      <th>101246</th>\n",
              "      <td>101247</td>\n",
              "      <td>6414837</td>\n",
              "      <td>40</td>\n",
              "      <td>3</td>\n",
              "      <td>0</td>\n",
              "      <td>0</td>\n",
              "      <td>0</td>\n",
              "      <td>39</td>\n",
              "      <td>142</td>\n",
              "      <td>2</td>\n",
              "      <td>3</td>\n",
              "      <td>14</td>\n",
              "      <td>0</td>\n",
              "    </tr>\n",
              "    <tr>\n",
              "      <th>41580</th>\n",
              "      <td>41581</td>\n",
              "      <td>8187477</td>\n",
              "      <td>50</td>\n",
              "      <td>20</td>\n",
              "      <td>0</td>\n",
              "      <td>0</td>\n",
              "      <td>0</td>\n",
              "      <td>47</td>\n",
              "      <td>10</td>\n",
              "      <td>8</td>\n",
              "      <td>7</td>\n",
              "      <td>14</td>\n",
              "      <td>0</td>\n",
              "    </tr>\n",
              "  </tbody>\n",
              "</table>\n",
              "</div>"
            ],
            "text/plain": [
              "            Id   income  age  ...  current_job_years  current_house_years  risk_flag\n",
              "29080    29081   383282   23  ...                  0                   13          0\n",
              "174363  174364  5660425   55  ...                  3                   13          0\n",
              "230557  230558  2102500   43  ...                 10                   11          0\n",
              "101246  101247  6414837   40  ...                  3                   14          0\n",
              "41580    41581  8187477   50  ...                  7                   14          0\n",
              "\n",
              "[5 rows x 13 columns]"
            ]
          },
          "metadata": {
            "tags": []
          },
          "execution_count": 199
        }
      ]
    },
    {
      "cell_type": "code",
      "metadata": {
        "id": "Z6wTQ1AhtVQo",
        "colab": {
          "base_uri": "https://localhost:8080/",
          "height": 195
        },
        "outputId": "f4479c0f-264f-445a-a70c-7ec5e667c1a3"
      },
      "source": [
        "df_test[\"profession\"]=pd.factorize(df_test.profession)[0]\n",
        "df_test[\"city\"]=pd.factorize(df_test.city)[0]\n",
        "df_test[\"state\"]=pd.factorize(df_test.state)[0]\n",
        "df_test[\"married\"]=pd.factorize(df_test.married)[0]\n",
        "df_test[\"house_ownership\"]=pd.factorize(df_test.house_ownership)[0]\n",
        "df_test[\"car_ownership\"]=pd.factorize(df_test.car_ownership)[0]\n",
        "df_test.sample(5)"
      ],
      "execution_count": null,
      "outputs": [
        {
          "output_type": "execute_result",
          "data": {
            "text/html": [
              "<div>\n",
              "<style scoped>\n",
              "    .dataframe tbody tr th:only-of-type {\n",
              "        vertical-align: middle;\n",
              "    }\n",
              "\n",
              "    .dataframe tbody tr th {\n",
              "        vertical-align: top;\n",
              "    }\n",
              "\n",
              "    .dataframe thead th {\n",
              "        text-align: right;\n",
              "    }\n",
              "</style>\n",
              "<table border=\"1\" class=\"dataframe\">\n",
              "  <thead>\n",
              "    <tr style=\"text-align: right;\">\n",
              "      <th></th>\n",
              "      <th>id</th>\n",
              "      <th>income</th>\n",
              "      <th>age</th>\n",
              "      <th>experience</th>\n",
              "      <th>married</th>\n",
              "      <th>house_ownership</th>\n",
              "      <th>car_ownership</th>\n",
              "      <th>profession</th>\n",
              "      <th>city</th>\n",
              "      <th>state</th>\n",
              "      <th>current_job_years</th>\n",
              "      <th>current_house_years</th>\n",
              "    </tr>\n",
              "  </thead>\n",
              "  <tbody>\n",
              "    <tr>\n",
              "      <th>3536</th>\n",
              "      <td>3537</td>\n",
              "      <td>9370159</td>\n",
              "      <td>76</td>\n",
              "      <td>4</td>\n",
              "      <td>0</td>\n",
              "      <td>0</td>\n",
              "      <td>1</td>\n",
              "      <td>15</td>\n",
              "      <td>40</td>\n",
              "      <td>11</td>\n",
              "      <td>4</td>\n",
              "      <td>14</td>\n",
              "    </tr>\n",
              "    <tr>\n",
              "      <th>14870</th>\n",
              "      <td>14871</td>\n",
              "      <td>9389020</td>\n",
              "      <td>61</td>\n",
              "      <td>2</td>\n",
              "      <td>0</td>\n",
              "      <td>0</td>\n",
              "      <td>1</td>\n",
              "      <td>1</td>\n",
              "      <td>64</td>\n",
              "      <td>7</td>\n",
              "      <td>2</td>\n",
              "      <td>12</td>\n",
              "    </tr>\n",
              "    <tr>\n",
              "      <th>8497</th>\n",
              "      <td>8498</td>\n",
              "      <td>255794</td>\n",
              "      <td>36</td>\n",
              "      <td>13</td>\n",
              "      <td>0</td>\n",
              "      <td>0</td>\n",
              "      <td>0</td>\n",
              "      <td>32</td>\n",
              "      <td>35</td>\n",
              "      <td>8</td>\n",
              "      <td>6</td>\n",
              "      <td>11</td>\n",
              "    </tr>\n",
              "    <tr>\n",
              "      <th>20610</th>\n",
              "      <td>20611</td>\n",
              "      <td>3413189</td>\n",
              "      <td>60</td>\n",
              "      <td>1</td>\n",
              "      <td>0</td>\n",
              "      <td>0</td>\n",
              "      <td>0</td>\n",
              "      <td>36</td>\n",
              "      <td>37</td>\n",
              "      <td>14</td>\n",
              "      <td>1</td>\n",
              "      <td>13</td>\n",
              "    </tr>\n",
              "    <tr>\n",
              "      <th>11512</th>\n",
              "      <td>11513</td>\n",
              "      <td>7034522</td>\n",
              "      <td>64</td>\n",
              "      <td>10</td>\n",
              "      <td>0</td>\n",
              "      <td>0</td>\n",
              "      <td>0</td>\n",
              "      <td>16</td>\n",
              "      <td>11</td>\n",
              "      <td>10</td>\n",
              "      <td>10</td>\n",
              "      <td>10</td>\n",
              "    </tr>\n",
              "  </tbody>\n",
              "</table>\n",
              "</div>"
            ],
            "text/plain": [
              "          id   income  age  ...  state  current_job_years  current_house_years\n",
              "3536    3537  9370159   76  ...     11                  4                   14\n",
              "14870  14871  9389020   61  ...      7                  2                   12\n",
              "8497    8498   255794   36  ...      8                  6                   11\n",
              "20610  20611  3413189   60  ...     14                  1                   13\n",
              "11512  11513  7034522   64  ...     10                 10                   10\n",
              "\n",
              "[5 rows x 12 columns]"
            ]
          },
          "metadata": {
            "tags": []
          },
          "execution_count": 200
        }
      ]
    },
    {
      "cell_type": "code",
      "metadata": {
        "id": "1kf8JarFhmF6"
      },
      "source": [
        "\n",
        "from sklearn.preprocessing import MinMaxScaler\n",
        "mm_scaler = MinMaxScaler()\n",
        "df_drop_train = df_train.drop( labels='Id',axis = 1 )\n",
        "col_names_train = list(df_drop_train.columns)\n",
        "df_mm_train = mm_scaler.fit_transform( df_drop_train )\n",
        "df_mm_train = pd.DataFrame(df_mm_train, columns=col_names_train)\n",
        "df_drop_test = df_test.drop( labels='id',axis = 1 )\n",
        "col_names_test = list(df_drop_test.columns)\n",
        "df_mm_test = mm_scaler.fit_transform( df_drop_test )\n",
        "df_mm_test = pd.DataFrame(df_mm_test, columns=col_names_test)"
      ],
      "execution_count": null,
      "outputs": []
    },
    {
      "cell_type": "code",
      "metadata": {
        "id": "_x2k2QFDwirT",
        "colab": {
          "base_uri": "https://localhost:8080/",
          "height": 195
        },
        "outputId": "3bc01d93-4dbb-44a9-fbac-871e8c4c3bd5"
      },
      "source": [
        "from sklearn.model_selection import train_test_split\n",
        "train, test = train_test_split(df_mm_train, test_size=0.2,shuffle=True,random_state=56)\n",
        "test.head(5)"
      ],
      "execution_count": null,
      "outputs": [
        {
          "output_type": "execute_result",
          "data": {
            "text/html": [
              "<div>\n",
              "<style scoped>\n",
              "    .dataframe tbody tr th:only-of-type {\n",
              "        vertical-align: middle;\n",
              "    }\n",
              "\n",
              "    .dataframe tbody tr th {\n",
              "        vertical-align: top;\n",
              "    }\n",
              "\n",
              "    .dataframe thead th {\n",
              "        text-align: right;\n",
              "    }\n",
              "</style>\n",
              "<table border=\"1\" class=\"dataframe\">\n",
              "  <thead>\n",
              "    <tr style=\"text-align: right;\">\n",
              "      <th></th>\n",
              "      <th>income</th>\n",
              "      <th>age</th>\n",
              "      <th>experience</th>\n",
              "      <th>married</th>\n",
              "      <th>house_ownership</th>\n",
              "      <th>car_ownership</th>\n",
              "      <th>profession</th>\n",
              "      <th>city</th>\n",
              "      <th>state</th>\n",
              "      <th>current_job_years</th>\n",
              "      <th>current_house_years</th>\n",
              "      <th>risk_flag</th>\n",
              "    </tr>\n",
              "  </thead>\n",
              "  <tbody>\n",
              "    <tr>\n",
              "      <th>69963</th>\n",
              "      <td>0.241322</td>\n",
              "      <td>0.465517</td>\n",
              "      <td>0.65</td>\n",
              "      <td>0.0</td>\n",
              "      <td>0.0</td>\n",
              "      <td>0.0</td>\n",
              "      <td>0.30</td>\n",
              "      <td>0.376033</td>\n",
              "      <td>0.333333</td>\n",
              "      <td>0.357143</td>\n",
              "      <td>0.00</td>\n",
              "      <td>0.0</td>\n",
              "    </tr>\n",
              "    <tr>\n",
              "      <th>217403</th>\n",
              "      <td>0.255097</td>\n",
              "      <td>0.051724</td>\n",
              "      <td>0.00</td>\n",
              "      <td>0.0</td>\n",
              "      <td>0.0</td>\n",
              "      <td>0.0</td>\n",
              "      <td>0.74</td>\n",
              "      <td>0.305785</td>\n",
              "      <td>0.370370</td>\n",
              "      <td>0.000000</td>\n",
              "      <td>0.75</td>\n",
              "      <td>0.0</td>\n",
              "    </tr>\n",
              "    <tr>\n",
              "      <th>231159</th>\n",
              "      <td>0.167209</td>\n",
              "      <td>0.327586</td>\n",
              "      <td>0.90</td>\n",
              "      <td>0.0</td>\n",
              "      <td>0.0</td>\n",
              "      <td>1.0</td>\n",
              "      <td>0.40</td>\n",
              "      <td>0.946281</td>\n",
              "      <td>0.185185</td>\n",
              "      <td>1.000000</td>\n",
              "      <td>0.50</td>\n",
              "      <td>1.0</td>\n",
              "    </tr>\n",
              "    <tr>\n",
              "      <th>47188</th>\n",
              "      <td>0.319243</td>\n",
              "      <td>0.862069</td>\n",
              "      <td>0.70</td>\n",
              "      <td>0.0</td>\n",
              "      <td>0.0</td>\n",
              "      <td>0.0</td>\n",
              "      <td>0.12</td>\n",
              "      <td>0.776860</td>\n",
              "      <td>0.222222</td>\n",
              "      <td>0.214286</td>\n",
              "      <td>0.75</td>\n",
              "      <td>0.0</td>\n",
              "    </tr>\n",
              "    <tr>\n",
              "      <th>77818</th>\n",
              "      <td>0.057384</td>\n",
              "      <td>0.103448</td>\n",
              "      <td>0.15</td>\n",
              "      <td>0.0</td>\n",
              "      <td>0.0</td>\n",
              "      <td>0.0</td>\n",
              "      <td>0.76</td>\n",
              "      <td>0.619835</td>\n",
              "      <td>0.851852</td>\n",
              "      <td>0.214286</td>\n",
              "      <td>0.00</td>\n",
              "      <td>0.0</td>\n",
              "    </tr>\n",
              "  </tbody>\n",
              "</table>\n",
              "</div>"
            ],
            "text/plain": [
              "          income       age  ...  current_house_years  risk_flag\n",
              "69963   0.241322  0.465517  ...                 0.00        0.0\n",
              "217403  0.255097  0.051724  ...                 0.75        0.0\n",
              "231159  0.167209  0.327586  ...                 0.50        1.0\n",
              "47188   0.319243  0.862069  ...                 0.75        0.0\n",
              "77818   0.057384  0.103448  ...                 0.00        0.0\n",
              "\n",
              "[5 rows x 12 columns]"
            ]
          },
          "metadata": {
            "tags": []
          },
          "execution_count": 202
        }
      ]
    },
    {
      "cell_type": "code",
      "metadata": {
        "id": "IJWBK7j3xl5U"
      },
      "source": [
        "a=train.drop(labels='risk_flag',axis=1)\n",
        "xtrain=a[['city','income','profession','age']]\n",
        "ytrain=train['risk_flag']\n",
        "b =test.drop(labels='risk_flag',axis=1)\n",
        "xtest=b[['city','income','profession','age']]\n",
        "ytest=test['risk_flag']"
      ],
      "execution_count": null,
      "outputs": []
    },
    {
      "cell_type": "code",
      "metadata": {
        "id": "5UnzBoSnrGf5"
      },
      "source": [
        "from sklearn.tree import DecisionTreeClassifier\n",
        "from sklearn.model_selection import GridSearchCV\n",
        "\n",
        "def dtree_grid_search(X,y,nfolds):\n",
        "    \n",
        "    param_grid = { 'min_samples_leaf':np.arange(3,15 ), 'criterion':['gini','entropy'],'max_depth': np.arange(13,17 ),\n",
        "'min_samples_split':np.arange(200,250),\n",
        "'max_leaf_nodes':np.arange(800,820),\n",
        "'min_samples_leaf':np.arange(65,75)}\n",
        "     \n",
        "    dtree_model=DecisionTreeClassifier()\n",
        "     \n",
        "    dtree_gscv = GridSearchCV(dtree_model, param_grid, cv=nfolds)\n",
        "     \n",
        "    dtree_gscv.fit(X, y)\n",
        "    return dtree_gscv.best_params_"
      ],
      "execution_count": null,
      "outputs": []
    },
    {
      "cell_type": "code",
      "metadata": {
        "id": "_EPzNYDnrghY"
      },
      "source": [
        "#dtree_grid_search(X=xtrain,y=ytrain,nfolds=3)"
      ],
      "execution_count": null,
      "outputs": []
    },
    {
      "cell_type": "code",
      "metadata": {
        "colab": {
          "base_uri": "https://localhost:8080/"
        },
        "id": "YHxpduAUmCiQ",
        "outputId": "09e7c822-513b-4207-f570-8b2a8e903187"
      },
      "source": [
        "from sklearn.metrics import roc_auc_score as score\n",
        "from sklearn.ensemble import RandomForestClassifier\n",
        "clf1 = RandomForestClassifier(class_weight='balanced',max_depth=14,min_samples_split=210,max_leaf_nodes=810,min_samples_leaf=70)\n",
        "clf1.fit(xtrain,ytrain)\n",
        "print(score(ytrain,clf1.predict(xtrain)))\n",
        "print(score(ytest,clf1.predict(xtest) ))"
      ],
      "execution_count": null,
      "outputs": [
        {
          "output_type": "stream",
          "text": [
            "0.8090306772140802\n",
            "0.7960001300534228\n"
          ],
          "name": "stdout"
        }
      ]
    },
    {
      "cell_type": "code",
      "metadata": {
        "id": "PxbHXoZCWiia",
        "colab": {
          "base_uri": "https://localhost:8080/"
        },
        "outputId": "b50e0982-ca5b-4881-d177-4ff99eff9ab4"
      },
      "source": [
        "from sklearn.metrics import roc_auc_score as score\n",
        "clf = DecisionTreeClassifier(  class_weight='balanced',max_depth=14,min_samples_split=210,max_leaf_nodes=810,min_samples_leaf=70)\n",
        "clf.fit(xtrain, ytrain)\n",
        "print(\"DecisionTreeClassifier\")\n",
        "feature_imp=pd.Series(clf.feature_importances_,index=xtrain.columns)\n",
        "k=feature_imp.sort_values()\n",
        "print(score(ytrain,clf.predict(xtrain)))\n",
        "print(score(ytest,clf.predict(xtest) ))\n",
        " "
      ],
      "execution_count": null,
      "outputs": [
        {
          "output_type": "stream",
          "text": [
            "DecisionTreeClassifier\n",
            "0.6606406297980549\n",
            "0.6482305808392785\n"
          ],
          "name": "stdout"
        }
      ]
    },
    {
      "cell_type": "code",
      "metadata": {
        "id": "sAMsUucfLyaW"
      },
      "source": [
        "def calc_score(model,xtrain,ytrain,xtest,ytest):\n",
        "  model.fit(xtrain,ytrain)\n",
        "  predict = model.predict(xtrain)\n",
        "  scr1 = score( ytrain,predict )\n",
        "  predict1 = model.predict(xtest)\n",
        "  scr2 = score( ytest,predict1 )\n",
        "  return scr1,scr2"
      ],
      "execution_count": null,
      "outputs": []
    },
    {
      "cell_type": "code",
      "metadata": {
        "id": "nPZ4SSPsN_lV"
      },
      "source": [
        "def effect(train_score,test_score,x_axis,title):\n",
        "  plt.style.use(\"fivethirtyeight\")\n",
        "  plt.style.use(\"dark_background\")\n",
        "  plt.figure(figsize=(5,5),dpi=129)\n",
        "  plt.plot(x_axis,train_score,color='orange',label='train_score')\n",
        "  plt.plot(x_axis,test_score,color='cyan',label='test_score')\n",
        "  plt.title(title)\n",
        "  plt.legend()\n",
        "  plt.xlabel(\"parameter_value\")\n",
        "  plt.ylabel(\"roc-auc score\")\n",
        "  plt.show()"
      ],
      "execution_count": null,
      "outputs": []
    },
    {
      "cell_type": "code",
      "metadata": {
        "id": "eGnJbYOSWJni"
      },
      "source": [
        "max_leaf_nodes = [j for j in range(100,1000,5 )]\n",
        "train2=[]\n",
        "test2=[]\n",
        "for j in max_leaf_nodes:\n",
        "  model= RandomForestClassifier(class_weight='balanced',max_leaf_nodes= j,random_state=42)\n",
        "  scr1,scr2=calc_score(model,xtrain,ytrain,xtest,ytest)\n",
        "  train2.append(scr1)\n",
        "  test2.append(scr2)"
      ],
      "execution_count": null,
      "outputs": []
    },
    {
      "cell_type": "code",
      "metadata": {
        "id": "pIFBcUpKXVUh",
        "colab": {
          "base_uri": "https://localhost:8080/",
          "height": 162
        },
        "outputId": "7c6c6a35-a5c3-4319-cf61-f2416fa382b5"
      },
      "source": [
        "effect(train2,test2,range(100,1000,5 ),\"max_leaf_nodes\")"
      ],
      "execution_count": null,
      "outputs": [
        {
          "output_type": "error",
          "ename": "NameError",
          "evalue": "ignored",
          "traceback": [
            "\u001b[0;31m---------------------------------------------------------------------------\u001b[0m",
            "\u001b[0;31mNameError\u001b[0m                                 Traceback (most recent call last)",
            "\u001b[0;32m<ipython-input-1-b9cfe63bdd05>\u001b[0m in \u001b[0;36m<module>\u001b[0;34m()\u001b[0m\n\u001b[0;32m----> 1\u001b[0;31m \u001b[0meffect\u001b[0m\u001b[0;34m(\u001b[0m\u001b[0mtrain2\u001b[0m\u001b[0;34m,\u001b[0m\u001b[0mtest2\u001b[0m\u001b[0;34m,\u001b[0m\u001b[0mrange\u001b[0m\u001b[0;34m(\u001b[0m\u001b[0;36m100\u001b[0m\u001b[0;34m,\u001b[0m\u001b[0;36m1000\u001b[0m\u001b[0;34m,\u001b[0m\u001b[0;36m5\u001b[0m \u001b[0;34m)\u001b[0m\u001b[0;34m,\u001b[0m\u001b[0;34m\"max_leaf_nodes\"\u001b[0m\u001b[0;34m)\u001b[0m\u001b[0;34m\u001b[0m\u001b[0;34m\u001b[0m\u001b[0m\n\u001b[0m",
            "\u001b[0;31mNameError\u001b[0m: name 'effect' is not defined"
          ]
        }
      ]
    },
    {
      "cell_type": "code",
      "metadata": {
        "id": "vBI4aejPcR2x"
      },
      "source": [
        "min_samples_leaf = [j for j in range( 50,500,2)]\n",
        "train3=[]\n",
        "test3=[]\n",
        "for j in min_samples_leaf:\n",
        "  model= RandomForestClassifier(class_weight='balanced',min_samples_leaf = j,random_state=42)\n",
        "  scr1,scr2=calc_score(model,xtrain,ytrain,xtest,ytest)\n",
        "  train3.append(scr1)\n",
        "  test3.append(scr2)"
      ],
      "execution_count": null,
      "outputs": []
    },
    {
      "cell_type": "code",
      "metadata": {
        "id": "NSB7RJU4dEjY"
      },
      "source": [
        "effect(train3,test3,range(50,500,2 ),\"min_samples_leaf\")"
      ],
      "execution_count": null,
      "outputs": []
    },
    {
      "cell_type": "code",
      "metadata": {
        "id": "V0TEfSIzrIfj"
      },
      "source": [
        "estimators= [j for j in range(1,600,10)]\n",
        "train4=[]\n",
        "test4=[]\n",
        "for j in estimators:\n",
        "  model= RandomForestClassifier(class_weight='balanced_subsample',n_estimators = j,n_jobs=-1,max_depth=14,random_state=42)\n",
        "  scr1,scr2=calc_score(model,xtrain,ytrain,xtest,ytest)\n",
        "  train4.append(scr1)\n",
        "  test4.append(scr2)"
      ],
      "execution_count": null,
      "outputs": []
    },
    {
      "cell_type": "code",
      "metadata": {
        "id": "PmHo3-KnsZHf"
      },
      "source": [
        "effect(train4,test4,range(1,600,10 ),\"n_estimators\")"
      ],
      "execution_count": null,
      "outputs": []
    },
    {
      "cell_type": "code",
      "metadata": {
        "id": "nnuq_NdEriZ0"
      },
      "source": [
        "plt.figure(figsize=(9,5),dpi=120)\n",
        "plt.barh(k.index,k)\n",
        "plt.xlabel('Importance')\n",
        "plt.ylabel('feature_name')\n",
        "plt.title('feature importance')"
      ],
      "execution_count": null,
      "outputs": []
    },
    {
      "cell_type": "code",
      "metadata": {
        "id": "ceWkBWQYv74F"
      },
      "source": [
        "id_col=original_df_test.id\n",
        "submission=pd.DataFrame({'id':id_col,'risk_flag':clf1.predict( df_mm_test[['city','income','profession','age']] ) })\n",
        "submission.to_csv('/content/drive/MyDrive/Hack Univ/ash.csv',index=False)"
      ],
      "execution_count": null,
      "outputs": []
    },
    {
      "cell_type": "code",
      "metadata": {
        "id": "QXRi9h8g3CBX"
      },
      "source": [
        "done_test=pd.read_csv('/content/drive/MyDrive/Hack Univ/ash.csv')\n",
        "done_test=done_test.astype('int32')\n",
        "done_test"
      ],
      "execution_count": null,
      "outputs": []
    },
    {
      "cell_type": "code",
      "metadata": {
        "id": "PyiVMnLi3S8d"
      },
      "source": [
        "done_test.to_csv('/content/drive/MyDrive/Hack Univ/ash.csv',index=False)"
      ],
      "execution_count": null,
      "outputs": []
    }
  ]
}